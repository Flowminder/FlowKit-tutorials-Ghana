{
 "cells": [
  {
   "cell_type": "markdown",
   "metadata": {},
   "source": [
    "# Lower-level functions\n",
    "\n",
    "In this tutorial you will learn...\n",
    "\n",
    "- Previous tutorials have explained the workflow with query objects  \n",
    "- Can also access the same functionality using lower-level flowclient functions  \n",
    "- Explain why you might want to do this, and why you usually won't  \n",
    "- run_query (explain query ID)  \n",
    "- get_status  \n",
    "- get_result / get_result_by_query_id / get_geojson_result / get_geojson_result_by_query_id  \n",
    "- Async variants of these  "
   ]
  },
  {
   "cell_type": "code",
   "execution_count": null,
   "metadata": {},
   "outputs": [],
   "source": []
  }
 ],
 "metadata": {
  "kernelspec": {
   "display_name": "Python 3",
   "language": "python",
   "name": "python3"
  },
  "language_info": {
   "codemirror_mode": {
    "name": "ipython",
    "version": 3
   },
   "file_extension": ".py",
   "mimetype": "text/x-python",
   "name": "python",
   "nbconvert_exporter": "python",
   "pygments_lexer": "ipython3",
   "version": "3.8.0"
  }
 },
 "nbformat": 4,
 "nbformat_minor": 4
}
