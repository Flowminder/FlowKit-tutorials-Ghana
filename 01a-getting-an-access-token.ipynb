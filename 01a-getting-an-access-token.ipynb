{
 "cells": [
  {
   "cell_type": "markdown",
   "metadata": {},
   "source": [
    "# Getting an access token\n",
    "\n",
    "Access to FlowKit functionality is controlled using tokens. Each token is valid for a limited period of time, and encodes the list of actions that the token bearer is allowed to access.\n",
    "\n",
    "You can use FlowAuth to generate tokens. For the demo FlowKit server we are using in these tutorials, the FlowAuth service can be accessed at https://auth.flowcloud-ghana.flowminder.org (different FlowKit deployments will have different FlowAuth servers).\n",
    "\n",
    "## Steps to create a token\n",
    "\n",
    "### 1. Go to Flowauth\n",
    "\n",
    "Go to the [FlowAuth login screen](https://auth.flowcloud-ghana.flowminder.org).\n",
    "\n",
    "### 2. Log in\n",
    "\n",
    "Log into FlowAuth using the username and password that were provided to you.  \n",
    "\n",
    "![login](img/login.gif)\n",
    "\n",
    "### 3. Add a new token\n",
    "\n",
    "Select the server for which you want to create a token (\"flowcloud-ghana\" in this case), and click the `+` button to start adding a new token.  \n",
    "\n",
    "![new_token](img/new_token.gif)\n",
    "\n",
    "### 4. Save the token\n",
    "\n",
    "Enter a name for the token (e.g. \"my_token\"), and click `SAVE`.  \n",
    "\n",
    "![save_token](img/save_token.gif)\n",
    "\n",
    "### 5. Copy the token\n",
    "\n",
    "Click `COPY` to copy the token to your clipboard.\n",
    "\n",
    "![copy_token](img/copy_token.gif)\n",
    "\n",
    "### 7. Use token in FlowClient connection\n",
    "\n",
    "Return to the ['Getting started with FlowClient' tutorial](01-getting-started-with-flowclient.ipynb) and paste the token into the notebook, then follow the instructions to create a FlowKit connection.\n"
   ]
  }
 ],
 "metadata": {
  "kernelspec": {
   "display_name": "Python 3",
   "language": "python",
   "name": "python3"
  },
  "language_info": {
   "codemirror_mode": {
    "name": "ipython",
    "version": 3
   },
   "file_extension": ".py",
   "mimetype": "text/x-python",
   "name": "python",
   "nbconvert_exporter": "python",
   "pygments_lexer": "ipython3",
   "version": "3.8.0"
  }
 },
 "nbformat": 4,
 "nbformat_minor": 4
}
