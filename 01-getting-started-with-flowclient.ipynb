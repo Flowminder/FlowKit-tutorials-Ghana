{
 "cells": [
  {
   "cell_type": "markdown",
   "metadata": {},
   "source": [
    "[![Binder](https://mybinder.org/badge_logo.svg)](https://mybinder.org/v2/gh/Flowminder/FlowKit-tutorials-Ghana/new_content?urlpath=lab/tree/01-getting-started-with-flowclient.ipynb)\n",
    "\n",
    "# Getting started with FlowClient\n",
    "\n",
    "In this tutorial you will learn how to connect FlowClient to a FlowKit server, and how to check that the connection is working."
   ]
  },
  {
   "cell_type": "markdown",
   "metadata": {},
   "source": [
    "## Import the flowclient library\n",
    "First step, import flowclient (if it's not installed, `pip install flowclient` first)."
   ]
  },
  {
   "cell_type": "code",
   "execution_count": 1,
   "metadata": {},
   "outputs": [],
   "source": [
    "import flowclient as fc"
   ]
  },
  {
   "cell_type": "markdown",
   "metadata": {},
   "source": [
    "## Connect to a FlowKit API\n",
    "\n",
    "- What is a connection, and why is it required?  \n",
    "- You will need to know:\n",
    "    - URL of the API you want to connect to,  \n",
    "    - SSL certificate file, if required,  \n",
    "    - URL and login details of the FlowAuth instance.  "
   ]
  },
  {
   "cell_type": "markdown",
   "metadata": {},
   "source": [
    "### Get an access token\n",
    "- What is an access token, and why?  \n",
    "- Follow instructions [here](using-flowauth.md) to create an access token  \n",
    "- Load token string in the notebook. Can either copy it in directly, or save as a file and read in:  \n",
    "\n",
    "(Note: while I think this is the neatest way to load a token, and probably the most convenient when we're building the FlowKit docs, this won't work when the notebook is running in Binder, so will probably need to just copy the token in)"
   ]
  },
  {
   "cell_type": "code",
   "execution_count": 2,
   "metadata": {},
   "outputs": [],
   "source": [
    "token = "
   ]
  },
  {
   "cell_type": "markdown",
   "metadata": {},
   "source": [
    "### Create a connection object\n",
    "- What is a connection object?  \n",
    "- Create one like this (explain the parameters):  "
   ]
  },
  {
   "cell_type": "code",
   "execution_count": 3,
   "metadata": {},
   "outputs": [],
   "source": [
    "conn = fc.connect(\n",
    "    url=\"https://api.flowcloud-ghana.flowminder.org\",\n",
    "    token=token,\n",
    ")"
   ]
  },
  {
   "cell_type": "markdown",
   "metadata": {},
   "source": [
    "## Check that the connection works\n",
    "Simplest way is to use `get_available_dates` (but note: only if your token allows you to do this)."
   ]
  },
  {
   "cell_type": "code",
   "execution_count": null,
   "metadata": {},
   "outputs": [],
   "source": [
    "fc.get_available_dates(connection=conn)"
   ]
  },
  {
   "cell_type": "markdown",
   "metadata": {},
   "source": [
    "Explain what the output means."
   ]
  },
  {
   "cell_type": "markdown",
   "metadata": {},
   "source": [
    "## Update a token\n",
    "FlowKit API tokens are time-limited, so eventually a token will expire. To update the token that a connection uses, use the `update_token` method:\n",
    "- Create a new token in FlowAuth and load it as before:"
   ]
  },
  {
   "cell_type": "code",
   "execution_count": 5,
   "metadata": {},
   "outputs": [],
   "source": [
    "new_token = "
   ]
  },
  {
   "cell_type": "markdown",
   "metadata": {},
   "source": [
    "- Update connection to use this token:  "
   ]
  },
  {
   "cell_type": "code",
   "execution_count": 6,
   "metadata": {},
   "outputs": [],
   "source": [
    "conn.update_token(new_token)"
   ]
  },
  {
   "cell_type": "markdown",
   "metadata": {},
   "source": [
    "## \"closing remarks\"\n",
    "In this tutorial we have used FlowClient to create a connection to FlowKit, checked that the connection works by getting the available dates, and updated the connection to use a different access token.\n",
    "\n",
    "In the next tutorial ([Running a query](02-running-a-query.ipynb)) you will learn how to get aggregated data outputs from FlowKit."
   ]
  }
 ],
 "metadata": {
  "kernelspec": {
   "display_name": "Python 3",
   "language": "python",
   "name": "python3"
  },
  "language_info": {
   "codemirror_mode": {
    "name": "ipython",
    "version": 3
   },
   "file_extension": ".py",
   "mimetype": "text/x-python",
   "name": "python",
   "nbconvert_exporter": "python",
   "pygments_lexer": "ipython3",
   "version": "3.8.0"
  }
 },
 "nbformat": 4,
 "nbformat_minor": 4
}
