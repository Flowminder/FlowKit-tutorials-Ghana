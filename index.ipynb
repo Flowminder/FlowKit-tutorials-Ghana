{
 "cells": [
  {
   "cell_type": "markdown",
   "metadata": {},
   "source": [
    "# FlowKit tutorials\n",
    "\n",
    "Here are some tutorials that will teach you how to use [FlowKit](https://flowkit.xyz/) for CDR analysis. These tutorials are designed to be used with the Ghana FlowCloud demo FlowKit server, which can be accessed at https://api.flowcloud-ghana.flowminder.org, and the associated FlowAuth instance which is available at https://auth.flowcloud-ghana.flowminder.org. The first tutorial will explain how to access this FlowKit server.\n",
    "\n",
    "These tutorials are Jupyter notebooks, and all code is written in the Python language.\n",
    "\n",
    "## What is FlowKit?\n",
    "\n",
    "FlowKit is designed to enable analysts to produce aggregated outputs from [Call Detail Record (CDR) data](https://en.wikipedia.org/wiki/Call_detail_record) for applications including disaster response, precision epidemiology and transport and mobility. FlowKit allows analysts to access aggregated outputs without having access to the raw CDR data, thereby enabling the use of CDR-derived insights for a range of applications without compromising individuals' privacy.\n",
    "\n",
    "## What is FlowClient?\n",
    "\n",
    "FlowClient is a Python client for communicating with the API of a FlowKit server. The tutorials in this repository will teach you how to use the FlowClient Python library to interact with FlowKit.\n",
    "\n",
    "If you are running these tutorials in Binder, `flowclient` is already installed. If you want to use FlowClient on your own computer, you can install it by running `pip install flowclient`.\n",
    "\n",
    "## Contents\n",
    "\n",
    "The tutorials are divided into three categories:\n",
    "\n",
    "- Beginner: These tutorials cover the basics of using FlowKit,  \n",
    "- Intermediate: These tutorials explore the functionality FlowKit provides in more detail,  \n",
    "- Advanced: These tutorials cover some more advanced usage patterns.\n",
    "\n",
    "### Beginner\n",
    "\n",
    "You should start with these tutorials. In this section you will learn how to connect to a FlowKit server, and how to use FlowClient to get aggregated data.\n",
    "\n",
    "There are two tutorials in this section:\n",
    "\n",
    "1. [Getting started with FlowClient](01-getting-started-with-flowclient.ipynb)  \n",
    "    1a. [Getting an access token](01a-getting-an-access-token.ipynb)  \n",
    "2. [Running a query](02-running-a-query.ipynb)  \n",
    "\n",
    "### Intermediate\n",
    "\n",
    "Once you have worked through the beginner tutorials, you will be ready to start on the intermediate tutorials. In this section you will learn more about the kinds of queries that are available in FlowKit, and the range of analysis that is possible.\n",
    "\n",
    "There are two tutorials in this section:\n",
    "\n",
    "3. [Geography](03-geography.ipynb)  \n",
    "4. [More complex queries](04-more-complex-queries.ipynb)  \n",
    "\n",
    "### Advanced\n",
    "\n",
    "The advanced tutorials introduce some alternative ways of using the FlowClient library. These alternative usage patterns make analysis with FlowClient more convenient in some situations, but it is possible to use all of FlowClient's functionality without knowing this stuff. Make sure you understand the content of the beginner and intermediate tutorials before working through these advanced tutorials.\n",
    "\n",
    "There are two tutorials in this section:\n",
    "\n",
    "5. [Async client](05-async-client.ipynb)  \n",
    "6. [Lower-level functions](06-lower-level-functions.ipynb)  \n",
    "\n",
    "## Next steps\n",
    "\n",
    "Once you have worked through these tutorials, have a look at the [worked examples](https://flowkit.xyz/analyst/worked_examples/) to see some practical examples of analysis using FlowKit.\n",
    "(Note: would be good to also add a how-to / worked example here for the COVID aggregates / indicators)\n"
   ]
  }
 ],
 "metadata": {
  "kernelspec": {
   "display_name": "Python 3",
   "language": "python",
   "name": "python3"
  },
  "language_info": {
   "codemirror_mode": {
    "name": "ipython",
    "version": 3
   },
   "file_extension": ".py",
   "mimetype": "text/x-python",
   "name": "python",
   "nbconvert_exporter": "python",
   "pygments_lexer": "ipython3",
   "version": "3.8.0"
  }
 },
 "nbformat": 4,
 "nbformat_minor": 4
}
