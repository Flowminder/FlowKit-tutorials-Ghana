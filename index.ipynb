{
 "cells": [
  {
   "cell_type": "markdown",
   "metadata": {},
   "source": [
    "# FlowKit tutorials\n",
    "\n",
    "Here are some tutorials that will teach you how to use [FlowKit](https://flowkit.xyz/) for CDR analysis. These tutorials are designed to be used with the Ghana FlowCloud demo FlowKit server.\n",
    "\n",
    "These tutorials are Jupyter notebooks, and all code is written in the Python language.\n",
    "\n",
    "**Note:** If you are running these tutorials online, using Binder, sometimes the notebooks open without a Python kernel. If you are running a tutorial and the top right corner of the notebook says \"No Kernel!\", you should click on that and select the \"Python 3\" kernel, otherwise you will not be able to run the code.\n",
    "\n",
    "## What is FlowKit?\n",
    "\n",
    "FlowKit is designed to enable analysts to produce aggregated outputs from [Call Detail Record (CDR) data](https://en.wikipedia.org/wiki/Call_detail_record) for applications including disaster response, precision epidemiology and transport and mobility. FlowKit allows analysts to access aggregated outputs without having access to the raw CDR data, thereby enabling the use of CDR-derived insights for a range of applications without compromising individuals' privacy.\n",
    "\n",
    "Each FlowKit instance is deployed on a server, which is typically within the premises of a mobile network operator. For these tutorials, you will be using a demo FlowKit server (containing fake CDR data), which can be accessed at `https://api.flowcloud-ghana.flowminder.org`, and the associated FlowAuth instance which is available at https://auth.flowcloud-ghana.flowminder.org. The first tutorial will explain how to access this FlowKit server\n",
    "\n",
    "## What is FlowClient?\n",
    "\n",
    "FlowClient is a Python client for communicating with the API of a FlowKit server. The tutorials in this repository will teach you how to use the FlowClient Python library to interact with FlowKit.\n",
    "\n",
    "If you are running these tutorials in Binder, or if you followed the instructions in [README.md](https://github.com/Flowminder/FlowKit-tutorials-Ghana/blob/master/README.md) to set up a local environment, then `flowclient` is already installed (along with all other Python libraries required for the tutorials). You can test whether `flowclient` is installed by running the cell below:"
   ]
  },
  {
   "cell_type": "code",
   "execution_count": null,
   "metadata": {},
   "outputs": [],
   "source": [
    "import flowclient as fc"
   ]
  },
  {
   "cell_type": "markdown",
   "metadata": {},
   "source": [
    "If you get an error when trying to import `flowclient`, this probably means it is not installed. You can install it by running\n",
    "\n",
    "```\n",
    "pip install flowclient\n",
    "```\n",
    "\n",
    "## Contents\n",
    "\n",
    "There are three tutorials. You should work through them in the order listed here:\n",
    "\n",
    "1. [Getting started with FlowClient](01-getting-started-with-flowclient.ipynb) - this tutorial will teach you how to connect to a Flowkit server,  \n",
    "    1a. [Getting an access token](01a-getting-an-access-token.ipynb) - instructions for getting an access token from FlowAuth, which you will use in tutorial 1,  \n",
    "2. [Running a query](02-running-a-query.ipynb) - this tutorial will teach you how to use FlowClient to get aggregated data from FlowKit,  \n",
    "3. [Geography](03-geography.ipynb) - this tutorial will teach you how to join query results to geographic boundaries.  \n",
    "\n",
    "Once you have worked through these, you could take a look at the [\"Mobility indicators\" worked example](mobility-indicators.ipynb) for a demonstration of some analysis using FlowKit aggregates."
   ]
  }
 ],
 "metadata": {
  "kernelspec": {
   "display_name": "Python 3",
   "language": "python",
   "name": "python3"
  },
  "language_info": {
   "codemirror_mode": {
    "name": "ipython",
    "version": 3
   },
   "file_extension": ".py",
   "mimetype": "text/x-python",
   "name": "python",
   "nbconvert_exporter": "python",
   "pygments_lexer": "ipython3",
   "version": "3.8.0"
  }
 },
 "nbformat": 4,
 "nbformat_minor": 4
}
