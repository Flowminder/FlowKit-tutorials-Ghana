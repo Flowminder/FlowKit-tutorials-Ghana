{
 "cells": [
  {
   "cell_type": "markdown",
   "metadata": {},
   "source": [
    "# Geography\n",
    "In the previous tutorial ([Running a query](02-running-a-query.ipynb)), you learned how to run a FlowKit query, and get the result as a pandas dataframe.\n",
    "\n",
    "In this tutorial you will learn:\n",
    "    - Options for the 'aggregation_unit' parameter  \n",
    "    - How to get a query result as geojson  \n",
    "    - How to get a separate geojson containing the geography (and why you might want to do this)"
   ]
  },
  {
   "cell_type": "raw",
   "metadata": {},
   "source": [
    "- Types of spatial aggregation unit\n",
    "- Create connection and create query object (link to previous tutorials for details). Maybe a couple of queries, with different aggregation units.\n",
    "- Get result in geojson format\n",
    "- Example: load into geopandas gdf. Then visualise. Give some suggestions (e.g. how to save to file in various formats)\n",
    "- If running multiple queries, doing additional post-processing, etc., may be simpler to get results without geo and join separately afterwards\n",
    "    - get_geography - explain what it does, and run it\n",
    "    - Example of getting a query result (without geo) and doing some post-processing\n",
    "    - Example of joining to post-processed results (load to geopandas, join on relevant columns. Note that need to join geo to result, not other way around, to keep it as a geodataframe)"
   ]
  },
  {
   "cell_type": "markdown",
   "metadata": {},
   "source": [
    "## \"closing remarks\"\n",
    "\n",
    "- What have we learned?  \n",
    "- In the next tutorial ([More complex queries](04-more-complex-queries.ipynb)) you will learn..."
   ]
  },
  {
   "cell_type": "code",
   "execution_count": null,
   "metadata": {},
   "outputs": [],
   "source": []
  }
 ],
 "metadata": {
  "kernelspec": {
   "display_name": "Python 3",
   "language": "python",
   "name": "python3"
  },
  "language_info": {
   "codemirror_mode": {
    "name": "ipython",
    "version": 3
   },
   "file_extension": ".py",
   "mimetype": "text/x-python",
   "name": "python",
   "nbconvert_exporter": "python",
   "pygments_lexer": "ipython3",
   "version": "3.8.0"
  }
 },
 "nbformat": 4,
 "nbformat_minor": 4
}
