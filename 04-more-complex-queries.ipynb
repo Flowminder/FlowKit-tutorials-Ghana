{
 "cells": [
  {
   "cell_type": "markdown",
   "metadata": {},
   "source": [
    "# More complex queries\n",
    " In the previous tutorial you learned...\n",
    " \n",
    " In this tutorial you will learn...\n",
    " \n",
    " - Spatial aggregate: takes a location sub-query as parameter  \n",
    "    - explain query spec functions (and specifically location query kinds, and emphasise that you can't directly get the individual-level results of these queries). Also mention that all aggregate queries are also represented by query specs like this, and can use these directly (see low-level usage tutorial), but it's usually easier to use query objects  \n",
    "    - Create and run/get a spatial aggregate query  \n",
    "- Flows: two sub-queries  \n",
    "- Joined spatial aggregate: location and metric sub-query:  \n",
    "    - A note about subscriber metric query kinds  \n",
    "- Histogram aggregate  \n",
    "- Subscriber subsetting and random sampling  \n",
    "- There are many more query kinds available, and more will be added over time. Where to find out what aggregate and location/metric query kinds are available (link to flowclient api docs; also available as docstrings within notebook)  \n",
    "\n",
    "(May want to split this into multiple tutorials)"
   ]
  },
  {
   "cell_type": "markdown",
   "metadata": {},
   "source": [
    "## \"closing remarks\"\n",
    "\n",
    "- What have we learned?  \n",
    "- This concludes the tutorials for \"normal\" FlowKit usage.  \n",
    "- There are some more advanced tutorials in which you can learn..."
   ]
  },
  {
   "cell_type": "code",
   "execution_count": null,
   "metadata": {},
   "outputs": [],
   "source": []
  }
 ],
 "metadata": {
  "kernelspec": {
   "display_name": "Python 3",
   "language": "python",
   "name": "python3"
  },
  "language_info": {
   "codemirror_mode": {
    "name": "ipython",
    "version": 3
   },
   "file_extension": ".py",
   "mimetype": "text/x-python",
   "name": "python",
   "nbconvert_exporter": "python",
   "pygments_lexer": "ipython3",
   "version": "3.8.0"
  }
 },
 "nbformat": 4,
 "nbformat_minor": 4
}
