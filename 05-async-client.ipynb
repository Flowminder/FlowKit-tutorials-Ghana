{
 "cells": [
  {
   "cell_type": "markdown",
   "metadata": {},
   "source": [
    "[![Binder](https://mybinder.org/badge_logo.svg)](https://mybinder.org/v2/gh/Flowminder/FlowKit-tutorials-Ghana/new_content?urlpath=lab/tree/05-async-client.ipynb)\n",
    "\n",
    "# Async client\n",
    "\n",
    "In this tutorial you will learn...\n",
    "\n",
    "Useful to have a basic understanding of asynchronous programming models (async/await in python) for this tutorial\n",
    "\n",
    "- How to use the async client, why, and how it's different from the \"normal\" client  \n",
    "- Async connection  \n",
    "- Create query object (nothing different here; just pass in an async connection)  \n",
    "- Need to await query methods  \n",
    "- Async variants of other functions (get_available_dates, get_geography, ...)  \n",
    "\n",
    "(Link to this from the earlier, synchronous equivalent, but make it clear there who should or shouldn't skip ahead to take a look)"
   ]
  },
  {
   "cell_type": "code",
   "execution_count": null,
   "metadata": {},
   "outputs": [],
   "source": []
  }
 ],
 "metadata": {
  "kernelspec": {
   "display_name": "Python 3",
   "language": "python",
   "name": "python3"
  },
  "language_info": {
   "codemirror_mode": {
    "name": "ipython",
    "version": 3
   },
   "file_extension": ".py",
   "mimetype": "text/x-python",
   "name": "python",
   "nbconvert_exporter": "python",
   "pygments_lexer": "ipython3",
   "version": "3.8.0"
  }
 },
 "nbformat": 4,
 "nbformat_minor": 4
}
