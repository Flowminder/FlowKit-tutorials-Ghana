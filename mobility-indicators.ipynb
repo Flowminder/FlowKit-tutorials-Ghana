{
 "cells": [
  {
   "cell_type": "markdown",
   "metadata": {},
   "source": [
    "# Mobility indicators\n",
    "## Assessing the impact of mobility restrictions during a virus outbreak\n",
    "\n",
    "In this worked example...\n",
    "\n",
    "(Include link to COVID website)"
   ]
  },
  {
   "cell_type": "markdown",
   "metadata": {},
   "source": [
    "### Introduction\n",
    "\n",
    "- What we aim to do\n",
    "- Summary of where we're heading, what prior knowledge is required, and what the end result will be"
   ]
  },
  {
   "cell_type": "markdown",
   "metadata": {},
   "source": [
    "### Run aggregates\n",
    "\n",
    "- Define queries\n",
    "- Set aggregates running\n",
    "- Get results"
   ]
  },
  {
   "cell_type": "code",
   "execution_count": 81,
   "metadata": {},
   "outputs": [],
   "source": [
    "import flowclient as fc\n",
    "import pandas as pd\n",
    "import geopandas as gpd\n",
    "import matplotlib.pyplot as plt\n",
    "from collections import Counter"
   ]
  },
  {
   "cell_type": "code",
   "execution_count": 82,
   "metadata": {},
   "outputs": [],
   "source": [
    "token = "
   ]
  },
  {
   "cell_type": "code",
   "execution_count": 83,
   "metadata": {},
   "outputs": [],
   "source": [
    "conn = fc.connect(\n",
    "    url=\"https://api.flowcloud-ghana.flowminder.org\",\n",
    "    token=token,\n",
    ")"
   ]
  },
  {
   "cell_type": "code",
   "execution_count": 108,
   "metadata": {},
   "outputs": [],
   "source": [
    "# Define date range\n",
    "start_date = \"2016-02-01\"\n",
    "end_date = \"2016-06-01\"\n",
    "all_dates = pd.date_range(start_date, end_date, closed=\"left\")"
   ]
  },
  {
   "cell_type": "code",
   "execution_count": 85,
   "metadata": {},
   "outputs": [],
   "source": [
    "# Total subscribers per day\n",
    "\n",
    "# E.g. query for 1 day\n",
    "total_subscribers_20160101_query = fc.unique_subscriber_counts(\n",
    "    connection=conn,\n",
    "    start_date=\"2016-01-01\",\n",
    "    end_date=\"2016-01-02\",\n",
    "    aggregation_unit=\"admin0\",\n",
    ")\n",
    "\n",
    "# Queries for all dates\n",
    "total_subscribers_per_day_queries = {}\n",
    "\n",
    "for day in all_dates:\n",
    "    total_subscribers_per_day_queries[day] = fc.unique_subscriber_counts(\n",
    "        connection=conn,\n",
    "        start_date=str(day),\n",
    "        end_date=str(day + pd.Timedelta(\"1 day\")),\n",
    "        aggregation_unit=\"admin0\",\n",
    "    )"
   ]
  },
  {
   "cell_type": "code",
   "execution_count": 86,
   "metadata": {},
   "outputs": [],
   "source": [
    "# Set them running\n",
    "for query in total_subscribers_per_day_queries.values():\n",
    "    query.run()"
   ]
  },
  {
   "cell_type": "code",
   "execution_count": 87,
   "metadata": {},
   "outputs": [],
   "source": [
    "# Subscribers per admin1 per day\n",
    "subscribers_per_admin1_per_day_queries = {\n",
    "    day: fc.unique_subscriber_counts(\n",
    "        connection=conn,\n",
    "        start_date=str(day),\n",
    "        end_date=str(day + pd.Timedelta(\"1 day\")),\n",
    "        aggregation_unit=\"admin1\",\n",
    "    )\n",
    "    for day in all_dates\n",
    "}\n",
    "\n",
    "for query in subscribers_per_admin1_per_day_queries.values():\n",
    "    query.run()"
   ]
  },
  {
   "cell_type": "code",
   "execution_count": 146,
   "metadata": {},
   "outputs": [],
   "source": [
    "# Subscribers per admin2 per day\n",
    "subscribers_per_admin2_per_day_queries = {\n",
    "    day: fc.unique_subscriber_counts(\n",
    "        connection=conn,\n",
    "        start_date=str(day),\n",
    "        end_date=str(day + pd.Timedelta(\"1 day\")),\n",
    "        aggregation_unit=\"admin2\",\n",
    "    )\n",
    "    for day in all_dates\n",
    "}\n",
    "\n",
    "for query in subscribers_per_admin2_per_day_queries.values():\n",
    "    query.run()"
   ]
  },
  {
   "cell_type": "code",
   "execution_count": 89,
   "metadata": {},
   "outputs": [],
   "source": [
    "# OD matrix (admin2)\n",
    "od_matrix_admin2_per_day_queries = {\n",
    "    day: fc.trips_od_matrix(\n",
    "        connection=conn,\n",
    "        start_date=str(day),\n",
    "        end_date=str(day + pd.Timedelta(\"1 day\")),\n",
    "        aggregation_unit=\"admin2\",\n",
    "    )\n",
    "    for day in all_dates\n",
    "}\n",
    "\n",
    "for query in od_matrix_admin2_per_day_queries.values():\n",
    "    query.run()"
   ]
  },
  {
   "cell_type": "code",
   "execution_count": 111,
   "metadata": {},
   "outputs": [],
   "source": [
    "# Total events per day\n",
    "\n",
    "total_events_per_day_query = fc.location_event_counts(\n",
    "    connection=conn,\n",
    "    start_date=start_date,\n",
    "    end_date=end_date,\n",
    "    count_interval=\"day\",\n",
    "    aggregation_unit=\"admin0\",\n",
    ")\n",
    "\n",
    "total_events_per_day_query.run()"
   ]
  },
  {
   "cell_type": "code",
   "execution_count": 112,
   "metadata": {},
   "outputs": [],
   "source": [
    "# Event counts (admin2 per day)\n",
    "events_per_admin2_per_day_query = fc.location_event_counts(\n",
    "    connection=conn,\n",
    "    start_date=start_date,\n",
    "    end_date=end_date,\n",
    "    count_interval=\"day\",\n",
    "    aggregation_unit=\"admin2\",\n",
    ")\n",
    "\n",
    "events_per_admin2_per_day_query.run()"
   ]
  },
  {
   "cell_type": "code",
   "execution_count": 147,
   "metadata": {},
   "outputs": [
    {
     "name": "stdout",
     "output_type": "stream",
     "text": [
      "Total subscribers: Counter({'completed': 121})\n",
      "Subscribers per admin1: Counter({'completed': 121})\n"
     ]
    },
    {
     "ename": "FlowclientConnectionError",
     "evalue": "Something went wrong: . API returned with status code: 500 and status 'errored'",
     "output_type": "error",
     "traceback": [
      "\u001b[0;31m---------------------------------------------------------------------------\u001b[0m",
      "\u001b[0;31mFlowclientConnectionError\u001b[0m                 Traceback (most recent call last)",
      "\u001b[0;32m<ipython-input-147-cd4c2e59e504>\u001b[0m in \u001b[0;36m<module>\u001b[0;34m\u001b[0m\n\u001b[1;32m      7\u001b[0m ]:\n\u001b[1;32m      8\u001b[0m     print(\n\u001b[0;32m----> 9\u001b[0;31m         \u001b[0;34mf\"{label}: {Counter([query.status for query in query_group.values()])}\"\u001b[0m\u001b[0;34m\u001b[0m\u001b[0;34m\u001b[0m\u001b[0m\n\u001b[0m\u001b[1;32m     10\u001b[0m     )\n\u001b[1;32m     11\u001b[0m \u001b[0;34m\u001b[0m\u001b[0m\n",
      "\u001b[0;32m<ipython-input-147-cd4c2e59e504>\u001b[0m in \u001b[0;36m<listcomp>\u001b[0;34m(.0)\u001b[0m\n\u001b[1;32m      7\u001b[0m ]:\n\u001b[1;32m      8\u001b[0m     print(\n\u001b[0;32m----> 9\u001b[0;31m         \u001b[0;34mf\"{label}: {Counter([query.status for query in query_group.values()])}\"\u001b[0m\u001b[0;34m\u001b[0m\u001b[0;34m\u001b[0m\u001b[0m\n\u001b[0m\u001b[1;32m     10\u001b[0m     )\n\u001b[1;32m     11\u001b[0m \u001b[0;34m\u001b[0m\u001b[0m\n",
      "\u001b[0;32m~/.local/share/virtualenvs/FlowKit-tutorials-Ghana-XGVjzS5J/lib/python3.8/site-packages/flowclient/api_query.py\u001b[0m in \u001b[0;36mstatus\u001b[0;34m(self)\u001b[0m\n\u001b[1;32m     83\u001b[0m         \u001b[0;32mif\u001b[0m \u001b[0;32mnot\u001b[0m \u001b[0mhasattr\u001b[0m\u001b[0;34m(\u001b[0m\u001b[0mself\u001b[0m\u001b[0;34m,\u001b[0m \u001b[0;34m\"_query_id\"\u001b[0m\u001b[0;34m)\u001b[0m\u001b[0;34m:\u001b[0m\u001b[0;34m\u001b[0m\u001b[0;34m\u001b[0m\u001b[0m\n\u001b[1;32m     84\u001b[0m             \u001b[0;32mreturn\u001b[0m \u001b[0;34m\"not_running\"\u001b[0m\u001b[0;34m\u001b[0m\u001b[0;34m\u001b[0m\u001b[0m\n\u001b[0;32m---> 85\u001b[0;31m         \u001b[0;32mreturn\u001b[0m \u001b[0mget_status\u001b[0m\u001b[0;34m(\u001b[0m\u001b[0mconnection\u001b[0m\u001b[0;34m=\u001b[0m\u001b[0mself\u001b[0m\u001b[0;34m.\u001b[0m\u001b[0mconnection\u001b[0m\u001b[0;34m,\u001b[0m \u001b[0mquery_id\u001b[0m\u001b[0;34m=\u001b[0m\u001b[0mself\u001b[0m\u001b[0;34m.\u001b[0m\u001b[0m_query_id\u001b[0m\u001b[0;34m)\u001b[0m\u001b[0;34m\u001b[0m\u001b[0;34m\u001b[0m\u001b[0m\n\u001b[0m\u001b[1;32m     86\u001b[0m \u001b[0;34m\u001b[0m\u001b[0m\n\u001b[1;32m     87\u001b[0m     def get_result(\n",
      "\u001b[0;32m~/.local/share/virtualenvs/FlowKit-tutorials-Ghana-XGVjzS5J/lib/python3.8/site-packages/flowclient/client.py\u001b[0m in \u001b[0;36mget_status\u001b[0;34m(connection, query_id)\u001b[0m\n\u001b[1;32m    117\u001b[0m     \"\"\"\n\u001b[1;32m    118\u001b[0m     \u001b[0;32mtry\u001b[0m\u001b[0;34m:\u001b[0m\u001b[0;34m\u001b[0m\u001b[0;34m\u001b[0m\u001b[0m\n\u001b[0;32m--> 119\u001b[0;31m         \u001b[0mready\u001b[0m\u001b[0;34m,\u001b[0m \u001b[0mreply\u001b[0m \u001b[0;34m=\u001b[0m \u001b[0mquery_is_ready\u001b[0m\u001b[0;34m(\u001b[0m\u001b[0mconnection\u001b[0m\u001b[0;34m=\u001b[0m\u001b[0mconnection\u001b[0m\u001b[0;34m,\u001b[0m \u001b[0mquery_id\u001b[0m\u001b[0;34m=\u001b[0m\u001b[0mquery_id\u001b[0m\u001b[0;34m)\u001b[0m\u001b[0;34m\u001b[0m\u001b[0;34m\u001b[0m\u001b[0m\n\u001b[0m\u001b[1;32m    120\u001b[0m     \u001b[0;32mexcept\u001b[0m \u001b[0mFileNotFoundError\u001b[0m\u001b[0;34m:\u001b[0m\u001b[0;34m\u001b[0m\u001b[0;34m\u001b[0m\u001b[0m\n\u001b[1;32m    121\u001b[0m         \u001b[0;31m# Can't distinguish 'known', 'cancelled', 'resetting' and 'awol' from the error,\u001b[0m\u001b[0;34m\u001b[0m\u001b[0;34m\u001b[0m\u001b[0;34m\u001b[0m\u001b[0m\n",
      "\u001b[0;32m~/.local/share/virtualenvs/FlowKit-tutorials-Ghana-XGVjzS5J/lib/python3.8/site-packages/flowclient/client.py\u001b[0m in \u001b[0;36mquery_is_ready\u001b[0;34m(connection, query_id)\u001b[0m\n\u001b[1;32m     75\u001b[0m         \u001b[0;34mf\"Polling server on {connection.url}/api/{connection.api_version}/poll/{query_id}\"\u001b[0m\u001b[0;34m\u001b[0m\u001b[0;34m\u001b[0m\u001b[0m\n\u001b[1;32m     76\u001b[0m     )\n\u001b[0;32m---> 77\u001b[0;31m     \u001b[0mreply\u001b[0m \u001b[0;34m=\u001b[0m \u001b[0mconnection\u001b[0m\u001b[0;34m.\u001b[0m\u001b[0mget_url\u001b[0m\u001b[0;34m(\u001b[0m\u001b[0mroute\u001b[0m\u001b[0;34m=\u001b[0m\u001b[0;34mf\"poll/{query_id}\"\u001b[0m\u001b[0;34m)\u001b[0m\u001b[0;34m\u001b[0m\u001b[0;34m\u001b[0m\u001b[0m\n\u001b[0m\u001b[1;32m     78\u001b[0m \u001b[0;34m\u001b[0m\u001b[0m\n\u001b[1;32m     79\u001b[0m     \u001b[0;32mif\u001b[0m \u001b[0mreply\u001b[0m\u001b[0;34m.\u001b[0m\u001b[0mstatus_code\u001b[0m \u001b[0;34m==\u001b[0m \u001b[0;36m303\u001b[0m\u001b[0;34m:\u001b[0m\u001b[0;34m\u001b[0m\u001b[0;34m\u001b[0m\u001b[0m\n",
      "\u001b[0;32m~/.local/share/virtualenvs/FlowKit-tutorials-Ghana-XGVjzS5J/lib/python3.8/site-packages/flowclient/connection.py\u001b[0m in \u001b[0;36mget_url\u001b[0;34m(self, route, data)\u001b[0m\n\u001b[1;32m    137\u001b[0m             \u001b[0;32mexcept\u001b[0m \u001b[0;34m(\u001b[0m\u001b[0mValueError\u001b[0m\u001b[0;34m,\u001b[0m \u001b[0mKeyError\u001b[0m\u001b[0;34m)\u001b[0m\u001b[0;34m:\u001b[0m\u001b[0;34m\u001b[0m\u001b[0;34m\u001b[0m\u001b[0m\n\u001b[1;32m    138\u001b[0m                 \u001b[0mstatus\u001b[0m \u001b[0;34m=\u001b[0m \u001b[0;34m\"Unknown status\"\u001b[0m\u001b[0;34m\u001b[0m\u001b[0;34m\u001b[0m\u001b[0m\n\u001b[0;32m--> 139\u001b[0;31m             raise FlowclientConnectionError(\n\u001b[0m\u001b[1;32m    140\u001b[0m                 \u001b[0;34mf\"Something went wrong: {error}. API returned with status code: {response.status_code} and status '{status}'\"\u001b[0m\u001b[0;34m\u001b[0m\u001b[0;34m\u001b[0m\u001b[0m\n\u001b[1;32m    141\u001b[0m             )\n",
      "\u001b[0;31mFlowclientConnectionError\u001b[0m: Something went wrong: . API returned with status code: 500 and status 'errored'"
     ]
    }
   ],
   "source": [
    "# Check statuses\n",
    "for label, query_group in [\n",
    "    (\"Total subscribers\", total_subscribers_per_day_queries),\n",
    "    (\"Subscribers per admin1\", subscribers_per_admin1_per_day_queries),\n",
    "    (\"Subscribers_per_admin2\", subscribers_per_admin2_per_day_queries),\n",
    "    (\"OD matrix\", od_matrix_admin2_per_day_queries),\n",
    "]:\n",
    "    print(\n",
    "        f\"{label}: {Counter([query.status for query in query_group.values()])}\"\n",
    "    )\n",
    "\n",
    "print(f\"Total events: {total_events_per_day_query.status}\")\n",
    "print(f\"Events per admin2: {events_per_admin2_per_day_query.status}\")"
   ]
  },
  {
   "cell_type": "code",
   "execution_count": 93,
   "metadata": {},
   "outputs": [
    {
     "data": {
      "text/html": [
       "<div>\n",
       "<style scoped>\n",
       "    .dataframe tbody tr th:only-of-type {\n",
       "        vertical-align: middle;\n",
       "    }\n",
       "\n",
       "    .dataframe tbody tr th {\n",
       "        vertical-align: top;\n",
       "    }\n",
       "\n",
       "    .dataframe thead th {\n",
       "        text-align: right;\n",
       "    }\n",
       "</style>\n",
       "<table border=\"1\" class=\"dataframe\">\n",
       "  <thead>\n",
       "    <tr style=\"text-align: right;\">\n",
       "      <th></th>\n",
       "      <th>pcod</th>\n",
       "      <th>value</th>\n",
       "    </tr>\n",
       "  </thead>\n",
       "  <tbody>\n",
       "    <tr>\n",
       "      <th>0</th>\n",
       "      <td>GH</td>\n",
       "      <td>2136902</td>\n",
       "    </tr>\n",
       "  </tbody>\n",
       "</table>\n",
       "</div>"
      ],
      "text/plain": [
       "  pcod    value\n",
       "0   GH  2136902"
      ]
     },
     "execution_count": 93,
     "metadata": {},
     "output_type": "execute_result"
    }
   ],
   "source": [
    "# Get results\n",
    "\n",
    "# Get one result\n",
    "first_result = total_subscribers_per_day_queries[all_dates[0]].get_result()\n",
    "first_result"
   ]
  },
  {
   "cell_type": "code",
   "execution_count": 94,
   "metadata": {},
   "outputs": [
    {
     "data": {
      "text/html": [
       "<div>\n",
       "<style scoped>\n",
       "    .dataframe tbody tr th:only-of-type {\n",
       "        vertical-align: middle;\n",
       "    }\n",
       "\n",
       "    .dataframe tbody tr th {\n",
       "        vertical-align: top;\n",
       "    }\n",
       "\n",
       "    .dataframe thead th {\n",
       "        text-align: right;\n",
       "    }\n",
       "</style>\n",
       "<table border=\"1\" class=\"dataframe\">\n",
       "  <thead>\n",
       "    <tr style=\"text-align: right;\">\n",
       "      <th></th>\n",
       "      <th>pcod</th>\n",
       "      <th>value</th>\n",
       "      <th>date</th>\n",
       "    </tr>\n",
       "  </thead>\n",
       "  <tbody>\n",
       "    <tr>\n",
       "      <th>0</th>\n",
       "      <td>GH</td>\n",
       "      <td>2136902</td>\n",
       "      <td>2016-02-01</td>\n",
       "    </tr>\n",
       "  </tbody>\n",
       "</table>\n",
       "</div>"
      ],
      "text/plain": [
       "  pcod    value       date\n",
       "0   GH  2136902 2016-02-01"
      ]
     },
     "execution_count": 94,
     "metadata": {},
     "output_type": "execute_result"
    }
   ],
   "source": [
    "# Add date column\n",
    "first_result[\"date\"] = all_dates[0]\n",
    "first_result"
   ]
  },
  {
   "cell_type": "code",
   "execution_count": 95,
   "metadata": {},
   "outputs": [
    {
     "data": {
      "text/html": [
       "<div>\n",
       "<style scoped>\n",
       "    .dataframe tbody tr th:only-of-type {\n",
       "        vertical-align: middle;\n",
       "    }\n",
       "\n",
       "    .dataframe tbody tr th {\n",
       "        vertical-align: top;\n",
       "    }\n",
       "\n",
       "    .dataframe thead th {\n",
       "        text-align: right;\n",
       "    }\n",
       "</style>\n",
       "<table border=\"1\" class=\"dataframe\">\n",
       "  <thead>\n",
       "    <tr style=\"text-align: right;\">\n",
       "      <th></th>\n",
       "      <th>pcod</th>\n",
       "      <th>value</th>\n",
       "      <th>date</th>\n",
       "    </tr>\n",
       "  </thead>\n",
       "  <tbody>\n",
       "    <tr>\n",
       "      <th>0</th>\n",
       "      <td>GH</td>\n",
       "      <td>2136902</td>\n",
       "      <td>2016-02-01</td>\n",
       "    </tr>\n",
       "    <tr>\n",
       "      <th>1</th>\n",
       "      <td>GH</td>\n",
       "      <td>2136917</td>\n",
       "      <td>2016-02-02</td>\n",
       "    </tr>\n",
       "    <tr>\n",
       "      <th>2</th>\n",
       "      <td>GH</td>\n",
       "      <td>2138207</td>\n",
       "      <td>2016-02-03</td>\n",
       "    </tr>\n",
       "    <tr>\n",
       "      <th>3</th>\n",
       "      <td>GH</td>\n",
       "      <td>2136691</td>\n",
       "      <td>2016-02-04</td>\n",
       "    </tr>\n",
       "    <tr>\n",
       "      <th>4</th>\n",
       "      <td>GH</td>\n",
       "      <td>2137545</td>\n",
       "      <td>2016-02-05</td>\n",
       "    </tr>\n",
       "    <tr>\n",
       "      <th>...</th>\n",
       "      <td>...</td>\n",
       "      <td>...</td>\n",
       "      <td>...</td>\n",
       "    </tr>\n",
       "    <tr>\n",
       "      <th>116</th>\n",
       "      <td>GH</td>\n",
       "      <td>2136774</td>\n",
       "      <td>2016-05-27</td>\n",
       "    </tr>\n",
       "    <tr>\n",
       "      <th>117</th>\n",
       "      <td>GH</td>\n",
       "      <td>2137298</td>\n",
       "      <td>2016-05-28</td>\n",
       "    </tr>\n",
       "    <tr>\n",
       "      <th>118</th>\n",
       "      <td>GH</td>\n",
       "      <td>2137551</td>\n",
       "      <td>2016-05-29</td>\n",
       "    </tr>\n",
       "    <tr>\n",
       "      <th>119</th>\n",
       "      <td>GH</td>\n",
       "      <td>2137748</td>\n",
       "      <td>2016-05-30</td>\n",
       "    </tr>\n",
       "    <tr>\n",
       "      <th>120</th>\n",
       "      <td>GH</td>\n",
       "      <td>2137470</td>\n",
       "      <td>2016-05-31</td>\n",
       "    </tr>\n",
       "  </tbody>\n",
       "</table>\n",
       "<p>121 rows × 3 columns</p>\n",
       "</div>"
      ],
      "text/plain": [
       "    pcod    value       date\n",
       "0     GH  2136902 2016-02-01\n",
       "1     GH  2136917 2016-02-02\n",
       "2     GH  2138207 2016-02-03\n",
       "3     GH  2136691 2016-02-04\n",
       "4     GH  2137545 2016-02-05\n",
       "..   ...      ...        ...\n",
       "116   GH  2136774 2016-05-27\n",
       "117   GH  2137298 2016-05-28\n",
       "118   GH  2137551 2016-05-29\n",
       "119   GH  2137748 2016-05-30\n",
       "120   GH  2137470 2016-05-31\n",
       "\n",
       "[121 rows x 3 columns]"
      ]
     },
     "execution_count": 95,
     "metadata": {},
     "output_type": "execute_result"
    }
   ],
   "source": [
    "# Get all results with date columns\n",
    "all_total_subscribers_results = [\n",
    "    query.get_result().assign(date=day)\n",
    "    for day, query in total_subscribers_per_day_queries.items()\n",
    "]\n",
    "\n",
    "total_subscribers_per_day_results = pd.concat(all_total_subscribers_results, ignore_index=True)\n",
    "\n",
    "total_subscribers_per_day_results"
   ]
  },
  {
   "cell_type": "code",
   "execution_count": 157,
   "metadata": {},
   "outputs": [
    {
     "data": {
      "text/html": [
       "<div>\n",
       "<style scoped>\n",
       "    .dataframe tbody tr th:only-of-type {\n",
       "        vertical-align: middle;\n",
       "    }\n",
       "\n",
       "    .dataframe tbody tr th {\n",
       "        vertical-align: top;\n",
       "    }\n",
       "\n",
       "    .dataframe thead th {\n",
       "        text-align: right;\n",
       "    }\n",
       "</style>\n",
       "<table border=\"1\" class=\"dataframe\">\n",
       "  <thead>\n",
       "    <tr style=\"text-align: right;\">\n",
       "      <th></th>\n",
       "      <th>value</th>\n",
       "      <th>date</th>\n",
       "    </tr>\n",
       "  </thead>\n",
       "  <tbody>\n",
       "    <tr>\n",
       "      <th>0</th>\n",
       "      <td>2136902</td>\n",
       "      <td>2016-02-01</td>\n",
       "    </tr>\n",
       "    <tr>\n",
       "      <th>1</th>\n",
       "      <td>2136917</td>\n",
       "      <td>2016-02-02</td>\n",
       "    </tr>\n",
       "    <tr>\n",
       "      <th>2</th>\n",
       "      <td>2138207</td>\n",
       "      <td>2016-02-03</td>\n",
       "    </tr>\n",
       "    <tr>\n",
       "      <th>3</th>\n",
       "      <td>2136691</td>\n",
       "      <td>2016-02-04</td>\n",
       "    </tr>\n",
       "    <tr>\n",
       "      <th>4</th>\n",
       "      <td>2137545</td>\n",
       "      <td>2016-02-05</td>\n",
       "    </tr>\n",
       "    <tr>\n",
       "      <th>...</th>\n",
       "      <td>...</td>\n",
       "      <td>...</td>\n",
       "    </tr>\n",
       "    <tr>\n",
       "      <th>116</th>\n",
       "      <td>2136774</td>\n",
       "      <td>2016-05-27</td>\n",
       "    </tr>\n",
       "    <tr>\n",
       "      <th>117</th>\n",
       "      <td>2137298</td>\n",
       "      <td>2016-05-28</td>\n",
       "    </tr>\n",
       "    <tr>\n",
       "      <th>118</th>\n",
       "      <td>2137551</td>\n",
       "      <td>2016-05-29</td>\n",
       "    </tr>\n",
       "    <tr>\n",
       "      <th>119</th>\n",
       "      <td>2137748</td>\n",
       "      <td>2016-05-30</td>\n",
       "    </tr>\n",
       "    <tr>\n",
       "      <th>120</th>\n",
       "      <td>2137470</td>\n",
       "      <td>2016-05-31</td>\n",
       "    </tr>\n",
       "  </tbody>\n",
       "</table>\n",
       "<p>121 rows × 2 columns</p>\n",
       "</div>"
      ],
      "text/plain": [
       "       value       date\n",
       "0    2136902 2016-02-01\n",
       "1    2136917 2016-02-02\n",
       "2    2138207 2016-02-03\n",
       "3    2136691 2016-02-04\n",
       "4    2137545 2016-02-05\n",
       "..       ...        ...\n",
       "116  2136774 2016-05-27\n",
       "117  2137298 2016-05-28\n",
       "118  2137551 2016-05-29\n",
       "119  2137748 2016-05-30\n",
       "120  2137470 2016-05-31\n",
       "\n",
       "[121 rows x 2 columns]"
      ]
     },
     "execution_count": 157,
     "metadata": {},
     "output_type": "execute_result"
    }
   ],
   "source": [
    "# Don't need \"pcod\" column, so let's drop it now\n",
    "total_subscribers_per_day_results = total_subscribers_per_day_results.drop(columns=\"pcod\")\n",
    "total_subscribers_per_day_results"
   ]
  },
  {
   "cell_type": "code",
   "execution_count": 96,
   "metadata": {},
   "outputs": [
    {
     "data": {
      "text/html": [
       "<div>\n",
       "<style scoped>\n",
       "    .dataframe tbody tr th:only-of-type {\n",
       "        vertical-align: middle;\n",
       "    }\n",
       "\n",
       "    .dataframe tbody tr th {\n",
       "        vertical-align: top;\n",
       "    }\n",
       "\n",
       "    .dataframe thead th {\n",
       "        text-align: right;\n",
       "    }\n",
       "</style>\n",
       "<table border=\"1\" class=\"dataframe\">\n",
       "  <thead>\n",
       "    <tr style=\"text-align: right;\">\n",
       "      <th></th>\n",
       "      <th>pcod</th>\n",
       "      <th>value</th>\n",
       "      <th>date</th>\n",
       "    </tr>\n",
       "  </thead>\n",
       "  <tbody>\n",
       "    <tr>\n",
       "      <th>0</th>\n",
       "      <td>GHA.10_1</td>\n",
       "      <td>227680</td>\n",
       "      <td>2016-02-01</td>\n",
       "    </tr>\n",
       "    <tr>\n",
       "      <th>1</th>\n",
       "      <td>GHA.1_1</td>\n",
       "      <td>470141</td>\n",
       "      <td>2016-02-01</td>\n",
       "    </tr>\n",
       "    <tr>\n",
       "      <th>2</th>\n",
       "      <td>GHA.2_1</td>\n",
       "      <td>204697</td>\n",
       "      <td>2016-02-01</td>\n",
       "    </tr>\n",
       "    <tr>\n",
       "      <th>3</th>\n",
       "      <td>GHA.3_1</td>\n",
       "      <td>222221</td>\n",
       "      <td>2016-02-01</td>\n",
       "    </tr>\n",
       "    <tr>\n",
       "      <th>4</th>\n",
       "      <td>GHA.4_1</td>\n",
       "      <td>246779</td>\n",
       "      <td>2016-02-01</td>\n",
       "    </tr>\n",
       "    <tr>\n",
       "      <th>...</th>\n",
       "      <td>...</td>\n",
       "      <td>...</td>\n",
       "      <td>...</td>\n",
       "    </tr>\n",
       "    <tr>\n",
       "      <th>1205</th>\n",
       "      <td>GHA.5_1</td>\n",
       "      <td>455908</td>\n",
       "      <td>2016-05-31</td>\n",
       "    </tr>\n",
       "    <tr>\n",
       "      <th>1206</th>\n",
       "      <td>GHA.6_1</td>\n",
       "      <td>299673</td>\n",
       "      <td>2016-05-31</td>\n",
       "    </tr>\n",
       "    <tr>\n",
       "      <th>1207</th>\n",
       "      <td>GHA.7_1</td>\n",
       "      <td>117576</td>\n",
       "      <td>2016-05-31</td>\n",
       "    </tr>\n",
       "    <tr>\n",
       "      <th>1208</th>\n",
       "      <td>GHA.8_1</td>\n",
       "      <td>72302</td>\n",
       "      <td>2016-05-31</td>\n",
       "    </tr>\n",
       "    <tr>\n",
       "      <th>1209</th>\n",
       "      <td>GHA.9_1</td>\n",
       "      <td>248545</td>\n",
       "      <td>2016-05-31</td>\n",
       "    </tr>\n",
       "  </tbody>\n",
       "</table>\n",
       "<p>1210 rows × 3 columns</p>\n",
       "</div>"
      ],
      "text/plain": [
       "          pcod   value       date\n",
       "0     GHA.10_1  227680 2016-02-01\n",
       "1      GHA.1_1  470141 2016-02-01\n",
       "2      GHA.2_1  204697 2016-02-01\n",
       "3      GHA.3_1  222221 2016-02-01\n",
       "4      GHA.4_1  246779 2016-02-01\n",
       "...        ...     ...        ...\n",
       "1205   GHA.5_1  455908 2016-05-31\n",
       "1206   GHA.6_1  299673 2016-05-31\n",
       "1207   GHA.7_1  117576 2016-05-31\n",
       "1208   GHA.8_1   72302 2016-05-31\n",
       "1209   GHA.9_1  248545 2016-05-31\n",
       "\n",
       "[1210 rows x 3 columns]"
      ]
     },
     "execution_count": 96,
     "metadata": {},
     "output_type": "execute_result"
    }
   ],
   "source": [
    "# Get admin1 subscriber counts\n",
    "subscribers_per_admin1_per_day_results = pd.concat(\n",
    "    [\n",
    "        query.get_result().assign(date=day)\n",
    "        for day, query in subscribers_per_admin1_per_day_queries.items()\n",
    "    ],\n",
    "    ignore_index=True,\n",
    ")\n",
    "\n",
    "subscribers_per_admin1_per_day_results"
   ]
  },
  {
   "cell_type": "code",
   "execution_count": null,
   "metadata": {},
   "outputs": [],
   "source": [
    "# Get admin2 subscriber counts\n",
    "subscribers_per_admin2_per_day_results = pd.concat(\n",
    "    [\n",
    "        query.get_result().assign(date=day)\n",
    "        for day, query in subscribers_per_admin2_per_day_queries.items()\n",
    "    ],\n",
    "    ignore_index=True,\n",
    ")\n",
    "\n",
    "subscribers_per_admin2_per_day_results"
   ]
  },
  {
   "cell_type": "code",
   "execution_count": null,
   "metadata": {},
   "outputs": [],
   "source": [
    "# Get admin2 OD matrix results\n",
    "od_matrix_admin2_per_day_results = pd.concat(\n",
    "    [\n",
    "        query.get_result().assign(date=day)\n",
    "        for day, query in od_matrix_admin2_per_day_queries.items()\n",
    "    ],\n",
    "    ignore_index=True,\n",
    ")\n",
    "\n",
    "od_matrix_admin2_per_day_results"
   ]
  },
  {
   "cell_type": "code",
   "execution_count": null,
   "metadata": {},
   "outputs": [],
   "source": [
    "# Get total event counts\n",
    "total_events_per_day_results = total_events_per_day_query.get_result()\n",
    "\n",
    "# Don't need to add a date column because it already has one, but...\n",
    "total_events_per_day_results.info()"
   ]
  },
  {
   "cell_type": "code",
   "execution_count": null,
   "metadata": {},
   "outputs": [],
   "source": [
    "# Date column is 'object' type (i.e. string) - need to convert to datetime\n",
    "total_events_per_day_results[\"date\"] = pd.to_datetime(total_events_per_day_results[\"date\"])\n",
    "\n",
    "total_events_per_day_results"
   ]
  },
  {
   "cell_type": "code",
   "execution_count": 121,
   "metadata": {},
   "outputs": [
    {
     "data": {
      "text/html": [
       "<div>\n",
       "<style scoped>\n",
       "    .dataframe tbody tr th:only-of-type {\n",
       "        vertical-align: middle;\n",
       "    }\n",
       "\n",
       "    .dataframe tbody tr th {\n",
       "        vertical-align: top;\n",
       "    }\n",
       "\n",
       "    .dataframe thead th {\n",
       "        text-align: right;\n",
       "    }\n",
       "</style>\n",
       "<table border=\"1\" class=\"dataframe\">\n",
       "  <thead>\n",
       "    <tr style=\"text-align: right;\">\n",
       "      <th></th>\n",
       "      <th>pcod</th>\n",
       "      <th>date</th>\n",
       "      <th>value</th>\n",
       "    </tr>\n",
       "  </thead>\n",
       "  <tbody>\n",
       "    <tr>\n",
       "      <th>0</th>\n",
       "      <td>GHA.10.10_1</td>\n",
       "      <td>2016-02-01</td>\n",
       "      <td>136114</td>\n",
       "    </tr>\n",
       "    <tr>\n",
       "      <th>1</th>\n",
       "      <td>GHA.10.1_1</td>\n",
       "      <td>2016-02-01</td>\n",
       "      <td>28901</td>\n",
       "    </tr>\n",
       "    <tr>\n",
       "      <th>2</th>\n",
       "      <td>GHA.10.11_1</td>\n",
       "      <td>2016-02-01</td>\n",
       "      <td>18318</td>\n",
       "    </tr>\n",
       "    <tr>\n",
       "      <th>3</th>\n",
       "      <td>GHA.10.12_1</td>\n",
       "      <td>2016-02-01</td>\n",
       "      <td>29705</td>\n",
       "    </tr>\n",
       "    <tr>\n",
       "      <th>4</th>\n",
       "      <td>GHA.10.13_1</td>\n",
       "      <td>2016-02-01</td>\n",
       "      <td>47380</td>\n",
       "    </tr>\n",
       "    <tr>\n",
       "      <th>...</th>\n",
       "      <td>...</td>\n",
       "      <td>...</td>\n",
       "      <td>...</td>\n",
       "    </tr>\n",
       "    <tr>\n",
       "      <th>16500</th>\n",
       "      <td>GHA.9.5_1</td>\n",
       "      <td>2016-05-31</td>\n",
       "      <td>31992</td>\n",
       "    </tr>\n",
       "    <tr>\n",
       "      <th>16501</th>\n",
       "      <td>GHA.9.6_1</td>\n",
       "      <td>2016-05-31</td>\n",
       "      <td>13468</td>\n",
       "    </tr>\n",
       "    <tr>\n",
       "      <th>16502</th>\n",
       "      <td>GHA.9.7_1</td>\n",
       "      <td>2016-05-31</td>\n",
       "      <td>34588</td>\n",
       "    </tr>\n",
       "    <tr>\n",
       "      <th>16503</th>\n",
       "      <td>GHA.9.8_1</td>\n",
       "      <td>2016-05-31</td>\n",
       "      <td>53798</td>\n",
       "    </tr>\n",
       "    <tr>\n",
       "      <th>16504</th>\n",
       "      <td>GHA.9.9_1</td>\n",
       "      <td>2016-05-31</td>\n",
       "      <td>24071</td>\n",
       "    </tr>\n",
       "  </tbody>\n",
       "</table>\n",
       "<p>16505 rows × 3 columns</p>\n",
       "</div>"
      ],
      "text/plain": [
       "              pcod       date   value\n",
       "0      GHA.10.10_1 2016-02-01  136114\n",
       "1       GHA.10.1_1 2016-02-01   28901\n",
       "2      GHA.10.11_1 2016-02-01   18318\n",
       "3      GHA.10.12_1 2016-02-01   29705\n",
       "4      GHA.10.13_1 2016-02-01   47380\n",
       "...            ...        ...     ...\n",
       "16500    GHA.9.5_1 2016-05-31   31992\n",
       "16501    GHA.9.6_1 2016-05-31   13468\n",
       "16502    GHA.9.7_1 2016-05-31   34588\n",
       "16503    GHA.9.8_1 2016-05-31   53798\n",
       "16504    GHA.9.9_1 2016-05-31   24071\n",
       "\n",
       "[16505 rows x 3 columns]"
      ]
     },
     "execution_count": 121,
     "metadata": {},
     "output_type": "execute_result"
    }
   ],
   "source": [
    "# Get admin2 event counts\n",
    "events_per_admin2_per_day_results = events_per_admin2_per_day_query.get_result()\n",
    "events_per_admin2_per_day_results[\"date\"] = pd.to_datetime(events_per_admin2_per_day_results[\"date\"])\n",
    "\n",
    "events_per_admin2_per_day_results"
   ]
  },
  {
   "cell_type": "markdown",
   "metadata": {},
   "source": [
    "### QA checks\n",
    "\n",
    "- Additional queries (define, run, get results)\n",
    "- Run checks\n",
    "    - Subscriber counts in urban vs rural\n",
    "    - sum(admin2 counts) / admin1 count ? (Maybe not - this might be an indicator)\n",
    "    - Stable over time (total, and per locality)\n",
    "    - Weekly variation (except there won't actually be any in the synthetic data)\n",
    "    - Events per subscriber - check sensible value and stable over time\n",
    "    - Missing data (temporal or spatial)\n",
    "- Explain results (and how to tell whether they 'passed')\n",
    "\n",
    "**Note:** Don't need all checks, because some are covered by FlowKit tests (i.e. we need to QA check the data, not the implementation)"
   ]
  },
  {
   "cell_type": "markdown",
   "metadata": {},
   "source": [
    "#### Time-series plots\n",
    "Should be stable over time and show weekly variation"
   ]
  },
  {
   "cell_type": "code",
   "execution_count": 98,
   "metadata": {},
   "outputs": [
    {
     "data": {
      "text/plain": [
       "<matplotlib.axes._subplots.AxesSubplot at 0x11e9e3c40>"
      ]
     },
     "execution_count": 98,
     "metadata": {},
     "output_type": "execute_result"
    },
    {
     "data": {
      "image/png": "[encoded data removed]",
      "text/plain": [
       "<Figure size 432x288 with 1 Axes>"
      ]
     },
     "metadata": {
      "needs_background": "light"
     },
     "output_type": "display_data"
    }
   ],
   "source": [
    "total_subscribers_per_day_results.plot(x=\"date\", y=\"value\")"
   ]
  },
  {
   "cell_type": "markdown",
   "metadata": {},
   "source": [
    "- Should be stable over time except for possible small changes due to new mobility restrictions\n",
    "- Should show weekly variation (but not in the synthetic data)"
   ]
  },
  {
   "cell_type": "code",
   "execution_count": 63,
   "metadata": {},
   "outputs": [
    {
     "data": {
      "text/plain": [
       "<matplotlib.axes._subplots.AxesSubplot at 0x11eb8dd60>"
      ]
     },
     "execution_count": 63,
     "metadata": {},
     "output_type": "execute_result"
    },
    {
     "data": {
      "image/png": "[encoded data removed]",
      "text/plain": [
       "<Figure size 432x288 with 1 Axes>"
      ]
     },
     "metadata": {
      "needs_background": "light"
     },
     "output_type": "display_data"
    }
   ],
   "source": [
    "subscribers_per_admin1_per_day_results.pivot(index=\"date\", columns=\"pcod\", values=\"value\").plot()"
   ]
  },
  {
   "cell_type": "code",
   "execution_count": 142,
   "metadata": {},
   "outputs": [
    {
     "data": {
      "text/plain": [
       "<matplotlib.axes._subplots.AxesSubplot at 0x1219b7580>"
      ]
     },
     "execution_count": 142,
     "metadata": {},
     "output_type": "execute_result"
    },
    {
     "data": {
      "image/png": "[encoded data removed]",
      "text/plain": [
       "<Figure size 432x288 with 1 Axes>"
      ]
     },
     "metadata": {
      "needs_background": "light"
     },
     "output_type": "display_data"
    }
   ],
   "source": [
    "subscribers_per_admin2_per_day_results.pivot(index=\"date\", columns=\"pcod\", values=\"value\").plot(legend=False)"
   ]
  },
  {
   "cell_type": "code",
   "execution_count": 152,
   "metadata": {},
   "outputs": [
    {
     "data": {
      "text/plain": [
       "<matplotlib.axes._subplots.AxesSubplot at 0x1253185b0>"
      ]
     },
     "execution_count": 152,
     "metadata": {},
     "output_type": "execute_result"
    },
    {
     "data": {
      "image/png": "[encoded data removed]",
      "text/plain": [
       "<Figure size 432x288 with 1 Axes>"
      ]
     },
     "metadata": {
      "needs_background": "light"
     },
     "output_type": "display_data"
    }
   ],
   "source": [
    "# May be clearer to plot sum\n",
    "plt.figure()\n",
    "subscribers_per_admin2_per_day_results.groupby(\"date\").sum().plot(ax=plt.gca(), y=\"value\", label=\"sum(subscribers per admin2)\")\n",
    "\n",
    "# Similar for OD matrix\n",
    "od_matrix_admin2_per_day_results.groupby(\"date\").sum().plot(ax=plt.gca(), y=\"value\", label=\"sum(OD matrix)\")\n",
    "\n",
    "# Show total subscribers for comparison\n",
    "total_subscribers_per_day_results.plot(ax=plt.gca(), x=\"date\", y=\"value\", label=\"total subscribers\")"
   ]
  },
  {
   "cell_type": "markdown",
   "metadata": {},
   "source": [
    "- Should be stable over time except for changes due to new mobility restrictions (in this case, sharp changes are due to start of simulated \"disaster\" on 2016-03-01 and start of recovery period on 2016-03-10)\n",
    "- Should show weekly variation (but not in the synthetic data)\n",
    "- Explain why sum of admin2 is larger than total"
   ]
  },
  {
   "cell_type": "markdown",
   "metadata": {},
   "source": [
    "#### Spatial distribution of subscriber counts\n",
    "Should be larger in urban districts, smaller in rural"
   ]
  },
  {
   "cell_type": "code",
   "execution_count": null,
   "metadata": {},
   "outputs": [],
   "source": [
    "# Calculate median daily subscriber count per admin2\n",
    "median_subscribers_per_admin2 = subscribers_per_admin2_per_day_results.groupby(\"pcod\").median()"
   ]
  },
  {
   "cell_type": "code",
   "execution_count": 65,
   "metadata": {},
   "outputs": [
    {
     "data": {
      "text/html": [
       "<div>\n",
       "<style scoped>\n",
       "    .dataframe tbody tr th:only-of-type {\n",
       "        vertical-align: middle;\n",
       "    }\n",
       "\n",
       "    .dataframe tbody tr th {\n",
       "        vertical-align: top;\n",
       "    }\n",
       "\n",
       "    .dataframe thead th {\n",
       "        text-align: right;\n",
       "    }\n",
       "</style>\n",
       "<table border=\"1\" class=\"dataframe\">\n",
       "  <thead>\n",
       "    <tr style=\"text-align: right;\">\n",
       "      <th></th>\n",
       "      <th>geometry</th>\n",
       "      <th>pcod</th>\n",
       "      <th>centroid</th>\n",
       "    </tr>\n",
       "  </thead>\n",
       "  <tbody>\n",
       "    <tr>\n",
       "      <th>0</th>\n",
       "      <td>MULTIPOLYGON (((-1.41637 6.32333, -1.43242 6.3...</td>\n",
       "      <td>GHA.1.1_1</td>\n",
       "      <td>{'type': 'Point', 'coordinates': [-1.585607706...</td>\n",
       "    </tr>\n",
       "    <tr>\n",
       "      <th>1</th>\n",
       "      <td>MULTIPOLYGON (((-1.54145 5.93492, -1.53550 5.9...</td>\n",
       "      <td>GHA.1.2_1</td>\n",
       "      <td>{'type': 'Point', 'coordinates': [-1.394701237...</td>\n",
       "    </tr>\n",
       "    <tr>\n",
       "      <th>2</th>\n",
       "      <td>MULTIPOLYGON (((-1.41025 6.86558, -1.42795 6.8...</td>\n",
       "      <td>GHA.1.3_1</td>\n",
       "      <td>{'type': 'Point', 'coordinates': [-1.557937016...</td>\n",
       "    </tr>\n",
       "    <tr>\n",
       "      <th>3</th>\n",
       "      <td>MULTIPOLYGON (((-2.29597 6.71882, -2.29462 6.7...</td>\n",
       "      <td>GHA.1.4_1</td>\n",
       "      <td>{'type': 'Point', 'coordinates': [-2.201639978...</td>\n",
       "    </tr>\n",
       "    <tr>\n",
       "      <th>4</th>\n",
       "      <td>MULTIPOLYGON (((-1.81879 6.98329, -1.83513 6.9...</td>\n",
       "      <td>GHA.1.5_1</td>\n",
       "      <td>{'type': 'Point', 'coordinates': [-1.957634046...</td>\n",
       "    </tr>\n",
       "    <tr>\n",
       "      <th>...</th>\n",
       "      <td>...</td>\n",
       "      <td>...</td>\n",
       "      <td>...</td>\n",
       "    </tr>\n",
       "    <tr>\n",
       "      <th>132</th>\n",
       "      <td>MULTIPOLYGON (((-2.36110 6.08630, -2.36740 6.0...</td>\n",
       "      <td>GHA.10.9_1</td>\n",
       "      <td>{'type': 'Point', 'coordinates': [-2.609585309...</td>\n",
       "    </tr>\n",
       "    <tr>\n",
       "      <th>133</th>\n",
       "      <td>MULTIPOLYGON (((-1.82511 5.57554, -1.82662 5.5...</td>\n",
       "      <td>GHA.10.11_1</td>\n",
       "      <td>{'type': 'Point', 'coordinates': [-2.009582598...</td>\n",
       "    </tr>\n",
       "    <tr>\n",
       "      <th>134</th>\n",
       "      <td>MULTIPOLYGON (((-1.70347 4.94569, -1.70347 4.9...</td>\n",
       "      <td>GHA.10.10_1</td>\n",
       "      <td>{'type': 'Point', 'coordinates': [-1.658353642...</td>\n",
       "    </tr>\n",
       "    <tr>\n",
       "      <th>135</th>\n",
       "      <td>MULTIPOLYGON (((-2.59935 5.44091, -2.59728 5.4...</td>\n",
       "      <td>GHA.10.12_1</td>\n",
       "      <td>{'type': 'Point', 'coordinates': [-2.332295004...</td>\n",
       "    </tr>\n",
       "    <tr>\n",
       "      <th>136</th>\n",
       "      <td>MULTIPOLYGON (((-1.97473 4.91827, -1.98106 4.9...</td>\n",
       "      <td>GHA.10.13_1</td>\n",
       "      <td>{'type': 'Point', 'coordinates': [-1.990833941...</td>\n",
       "    </tr>\n",
       "  </tbody>\n",
       "</table>\n",
       "<p>137 rows × 3 columns</p>\n",
       "</div>"
      ],
      "text/plain": [
       "                                              geometry         pcod  \\\n",
       "0    MULTIPOLYGON (((-1.41637 6.32333, -1.43242 6.3...    GHA.1.1_1   \n",
       "1    MULTIPOLYGON (((-1.54145 5.93492, -1.53550 5.9...    GHA.1.2_1   \n",
       "2    MULTIPOLYGON (((-1.41025 6.86558, -1.42795 6.8...    GHA.1.3_1   \n",
       "3    MULTIPOLYGON (((-2.29597 6.71882, -2.29462 6.7...    GHA.1.4_1   \n",
       "4    MULTIPOLYGON (((-1.81879 6.98329, -1.83513 6.9...    GHA.1.5_1   \n",
       "..                                                 ...          ...   \n",
       "132  MULTIPOLYGON (((-2.36110 6.08630, -2.36740 6.0...   GHA.10.9_1   \n",
       "133  MULTIPOLYGON (((-1.82511 5.57554, -1.82662 5.5...  GHA.10.11_1   \n",
       "134  MULTIPOLYGON (((-1.70347 4.94569, -1.70347 4.9...  GHA.10.10_1   \n",
       "135  MULTIPOLYGON (((-2.59935 5.44091, -2.59728 5.4...  GHA.10.12_1   \n",
       "136  MULTIPOLYGON (((-1.97473 4.91827, -1.98106 4.9...  GHA.10.13_1   \n",
       "\n",
       "                                              centroid  \n",
       "0    {'type': 'Point', 'coordinates': [-1.585607706...  \n",
       "1    {'type': 'Point', 'coordinates': [-1.394701237...  \n",
       "2    {'type': 'Point', 'coordinates': [-1.557937016...  \n",
       "3    {'type': 'Point', 'coordinates': [-2.201639978...  \n",
       "4    {'type': 'Point', 'coordinates': [-1.957634046...  \n",
       "..                                                 ...  \n",
       "132  {'type': 'Point', 'coordinates': [-2.609585309...  \n",
       "133  {'type': 'Point', 'coordinates': [-2.009582598...  \n",
       "134  {'type': 'Point', 'coordinates': [-1.658353642...  \n",
       "135  {'type': 'Point', 'coordinates': [-2.332295004...  \n",
       "136  {'type': 'Point', 'coordinates': [-1.990833941...  \n",
       "\n",
       "[137 rows x 3 columns]"
      ]
     },
     "execution_count": 65,
     "metadata": {},
     "output_type": "execute_result"
    }
   ],
   "source": [
    "# Get admin2 boundaries\n",
    "admin2_geojson = fc.get_geography(connection=conn, aggregation_unit=\"admin2\")\n",
    "admin2_gdf = gpd.GeoDataFrame.from_features(admin2_geojson)\n",
    "admin2_gdf"
   ]
  },
  {
   "cell_type": "code",
   "execution_count": 68,
   "metadata": {},
   "outputs": [
    {
     "data": {
      "text/plain": [
       "<matplotlib.axes._subplots.AxesSubplot at 0x1223c5340>"
      ]
     },
     "execution_count": 68,
     "metadata": {},
     "output_type": "execute_result"
    },
    {
     "data": {
      "image/png": "[encoded data removed]",
      "text/plain": [
       "<Figure size 432x288 with 2 Axes>"
      ]
     },
     "metadata": {
      "needs_background": "light"
     },
     "output_type": "display_data"
    }
   ],
   "source": [
    "# Join median subscriber counts to admin boundaries, and plot\n",
    "median_subscribers_per_admin2_with_geo = admin2_gdf.merge(\n",
    "    median_subscribers_per_admin2, left_on=\"pcod\", right_index=True\n",
    ")\n",
    "\n",
    "median_subscribers_per_admin2_with_geo.plot(column=\"value\", legend=True)"
   ]
  },
  {
   "cell_type": "markdown",
   "metadata": {},
   "source": [
    "- Should have larger subscriber counts in urban districts, and smaller in rural districts"
   ]
  },
  {
   "cell_type": "markdown",
   "metadata": {},
   "source": [
    "#### Events per subscriber (for each admin2, then for whole country)"
   ]
  },
  {
   "cell_type": "code",
   "execution_count": 124,
   "metadata": {},
   "outputs": [
    {
     "data": {
      "text/plain": [
       "<matplotlib.axes._subplots.AxesSubplot at 0x1233d5370>"
      ]
     },
     "execution_count": 124,
     "metadata": {},
     "output_type": "execute_result"
    },
    {
     "data": {
      "image/png": "[encoded data removed]",
      "text/plain": [
       "<Figure size 432x288 with 1 Axes>"
      ]
     },
     "metadata": {
      "needs_background": "light"
     },
     "output_type": "display_data"
    }
   ],
   "source": [
    "# Total events per day\n",
    "average_events_per_subscriber = total_events_per_day_results.set_index(\"date\").value / total_subscribers_per_day_results.set_index(\"date\").value\n",
    "\n",
    "average_events_per_subscriber.plot()"
   ]
  },
  {
   "cell_type": "markdown",
   "metadata": {},
   "source": [
    "- Values should be reasonable (e.g. not 500 events per subscriber per day)\n",
    "- Values should be >= 1 (because every active subscriber has at least 1 event\n",
    "- Values should be fairly stable over time"
   ]
  },
  {
   "cell_type": "code",
   "execution_count": 141,
   "metadata": {},
   "outputs": [
    {
     "data": {
      "text/plain": [
       "<matplotlib.axes._subplots.AxesSubplot at 0x123274ca0>"
      ]
     },
     "execution_count": 141,
     "metadata": {},
     "output_type": "execute_result"
    },
    {
     "data": {
      "image/png": "[encoded data removed]",
      "text/plain": [
       "<Figure size 432x288 with 1 Axes>"
      ]
     },
     "metadata": {
      "needs_background": "light"
     },
     "output_type": "display_data"
    }
   ],
   "source": [
    "# Per admin2\n",
    "events_per_subscriber_per_admin2 = (\n",
    "    events_per_admin2_per_day_results.set_index([\"date\", \"pcod\"]) / subscribers_per_admin2_per_day_results.set_index([\"date\", \"pcod\"])\n",
    ").reset_index()\n",
    "events_per_subscriber_per_admin2.pivot(index=\"date\", columns=\"pcod\", values=\"value\").plot(legend=False)"
   ]
  },
  {
   "cell_type": "markdown",
   "metadata": {},
   "source": [
    "#### Missing data\n",
    "- Total events per day, over time"
   ]
  },
  {
   "cell_type": "code",
   "execution_count": 135,
   "metadata": {},
   "outputs": [
    {
     "data": {
      "text/plain": [
       "<matplotlib.axes._subplots.AxesSubplot at 0x11b4cd9a0>"
      ]
     },
     "execution_count": 135,
     "metadata": {},
     "output_type": "execute_result"
    },
    {
     "data": {
      "image/png": "[encoded data removed]",
      "text/plain": [
       "<Figure size 432x288 with 1 Axes>"
      ]
     },
     "metadata": {
      "needs_background": "light"
     },
     "output_type": "display_data"
    }
   ],
   "source": [
    "total_events_per_day_results.plot(x=\"date\", y=\"value\")"
   ]
  },
  {
   "cell_type": "markdown",
   "metadata": {},
   "source": [
    "- If there's an anomaly, show a map of events per admin2 on that day, to see if there's a spatial effect"
   ]
  },
  {
   "cell_type": "code",
   "execution_count": 156,
   "metadata": {},
   "outputs": [
    {
     "data": {
      "text/plain": [
       "<matplotlib.axes._subplots.AxesSubplot at 0x1269f2820>"
      ]
     },
     "execution_count": 156,
     "metadata": {},
     "output_type": "execute_result"
    },
    {
     "data": {
      "image/png": "[encoded data removed]",
      "text/plain": [
       "<Figure size 432x288 with 2 Axes>"
      ]
     },
     "metadata": {
      "needs_background": "light"
     },
     "output_type": "display_data"
    }
   ],
   "source": [
    "# E.g. if total event count was lower on 13 March, can plot event count per admin2 on that day\n",
    "admin2_gdf.merge(\n",
    "    events_per_admin2_per_day_results[events_per_admin2_per_day_results.date == \"2016-03-14\"],\n",
    "    on=\"pcod\",\n",
    ").plot(column=\"value\", legend=True)"
   ]
  },
  {
   "cell_type": "markdown",
   "metadata": {},
   "source": [
    "If no data for parts of the country, suggests the CDR data are incomplete."
   ]
  },
  {
   "cell_type": "markdown",
   "metadata": {},
   "source": [
    "### Indicators\n",
    "\n",
    "- Calculate indicators from aggregates\n",
    "    - Scaled subscriber count per admin2 (including baseline calculation)\n",
    "    - Average admin2 visited per subscriber for each admin1\n",
    "    - Scaled OD matrix subscriber count\n",
    "- Produce visualisations (not sure exactly what to show for OD matrix - maybe pick a few pairs and show line plots; could also do a before vs after map of Accra -> other)\n",
    "- Explain what we see"
   ]
  },
  {
   "cell_type": "markdown",
   "metadata": {},
   "source": [
    "#### Scaled subscriber count per admin2\n",
    "\n",
    "- Divide subscriber count by total, to mitigate effects of changes in calling behaviour (i.e. assume actual number of people is ~ constant, so changes in total are due to people calling more/less)\n",
    "- Calculate baseline average\n",
    "- % of baseline"
   ]
  },
  {
   "cell_type": "code",
   "execution_count": 181,
   "metadata": {},
   "outputs": [
    {
     "data": {
      "text/html": [
       "<div>\n",
       "<style scoped>\n",
       "    .dataframe tbody tr th:only-of-type {\n",
       "        vertical-align: middle;\n",
       "    }\n",
       "\n",
       "    .dataframe tbody tr th {\n",
       "        vertical-align: top;\n",
       "    }\n",
       "\n",
       "    .dataframe thead th {\n",
       "        text-align: right;\n",
       "    }\n",
       "</style>\n",
       "<table border=\"1\" class=\"dataframe\">\n",
       "  <thead>\n",
       "    <tr style=\"text-align: right;\">\n",
       "      <th></th>\n",
       "      <th>pcod</th>\n",
       "      <th>value</th>\n",
       "      <th>date</th>\n",
       "      <th>total_subscribers</th>\n",
       "      <th>scaled_subscriber_count</th>\n",
       "    </tr>\n",
       "  </thead>\n",
       "  <tbody>\n",
       "    <tr>\n",
       "      <th>0</th>\n",
       "      <td>GHA.10.10_1</td>\n",
       "      <td>64982</td>\n",
       "      <td>2016-02-03</td>\n",
       "      <td>2138207</td>\n",
       "      <td>0.030391</td>\n",
       "    </tr>\n",
       "    <tr>\n",
       "      <th>1</th>\n",
       "      <td>GHA.10.1_1</td>\n",
       "      <td>13868</td>\n",
       "      <td>2016-02-03</td>\n",
       "      <td>2138207</td>\n",
       "      <td>0.006486</td>\n",
       "    </tr>\n",
       "    <tr>\n",
       "      <th>2</th>\n",
       "      <td>GHA.10.11_1</td>\n",
       "      <td>8934</td>\n",
       "      <td>2016-02-03</td>\n",
       "      <td>2138207</td>\n",
       "      <td>0.004178</td>\n",
       "    </tr>\n",
       "    <tr>\n",
       "      <th>3</th>\n",
       "      <td>GHA.10.12_1</td>\n",
       "      <td>14485</td>\n",
       "      <td>2016-02-03</td>\n",
       "      <td>2138207</td>\n",
       "      <td>0.006774</td>\n",
       "    </tr>\n",
       "    <tr>\n",
       "      <th>4</th>\n",
       "      <td>GHA.10.13_1</td>\n",
       "      <td>22758</td>\n",
       "      <td>2016-02-03</td>\n",
       "      <td>2138207</td>\n",
       "      <td>0.010643</td>\n",
       "    </tr>\n",
       "    <tr>\n",
       "      <th>...</th>\n",
       "      <td>...</td>\n",
       "      <td>...</td>\n",
       "      <td>...</td>\n",
       "      <td>...</td>\n",
       "      <td>...</td>\n",
       "    </tr>\n",
       "    <tr>\n",
       "      <th>5580</th>\n",
       "      <td>GHA.9.5_1</td>\n",
       "      <td>15398</td>\n",
       "      <td>2016-04-11</td>\n",
       "      <td>2137014</td>\n",
       "      <td>0.007205</td>\n",
       "    </tr>\n",
       "    <tr>\n",
       "      <th>5581</th>\n",
       "      <td>GHA.9.6_1</td>\n",
       "      <td>6403</td>\n",
       "      <td>2016-04-11</td>\n",
       "      <td>2137014</td>\n",
       "      <td>0.002996</td>\n",
       "    </tr>\n",
       "    <tr>\n",
       "      <th>5582</th>\n",
       "      <td>GHA.9.7_1</td>\n",
       "      <td>16460</td>\n",
       "      <td>2016-04-11</td>\n",
       "      <td>2137014</td>\n",
       "      <td>0.007702</td>\n",
       "    </tr>\n",
       "    <tr>\n",
       "      <th>5583</th>\n",
       "      <td>GHA.9.8_1</td>\n",
       "      <td>25406</td>\n",
       "      <td>2016-04-11</td>\n",
       "      <td>2137014</td>\n",
       "      <td>0.011889</td>\n",
       "    </tr>\n",
       "    <tr>\n",
       "      <th>5584</th>\n",
       "      <td>GHA.9.9_1</td>\n",
       "      <td>11849</td>\n",
       "      <td>2016-04-11</td>\n",
       "      <td>2137014</td>\n",
       "      <td>0.005545</td>\n",
       "    </tr>\n",
       "  </tbody>\n",
       "</table>\n",
       "<p>5585 rows × 5 columns</p>\n",
       "</div>"
      ],
      "text/plain": [
       "             pcod  value       date  total_subscribers  \\\n",
       "0     GHA.10.10_1  64982 2016-02-03            2138207   \n",
       "1      GHA.10.1_1  13868 2016-02-03            2138207   \n",
       "2     GHA.10.11_1   8934 2016-02-03            2138207   \n",
       "3     GHA.10.12_1  14485 2016-02-03            2138207   \n",
       "4     GHA.10.13_1  22758 2016-02-03            2138207   \n",
       "...           ...    ...        ...                ...   \n",
       "5580    GHA.9.5_1  15398 2016-04-11            2137014   \n",
       "5581    GHA.9.6_1   6403 2016-04-11            2137014   \n",
       "5582    GHA.9.7_1  16460 2016-04-11            2137014   \n",
       "5583    GHA.9.8_1  25406 2016-04-11            2137014   \n",
       "5584    GHA.9.9_1  11849 2016-04-11            2137014   \n",
       "\n",
       "      scaled_subscriber_count  \n",
       "0                    0.030391  \n",
       "1                    0.006486  \n",
       "2                    0.004178  \n",
       "3                    0.006774  \n",
       "4                    0.010643  \n",
       "...                       ...  \n",
       "5580                 0.007205  \n",
       "5581                 0.002996  \n",
       "5582                 0.007702  \n",
       "5583                 0.011889  \n",
       "5584                 0.005545  \n",
       "\n",
       "[5585 rows x 5 columns]"
      ]
     },
     "execution_count": 181,
     "metadata": {},
     "output_type": "execute_result"
    }
   ],
   "source": [
    "# Merge admin2 and total subscribers\n",
    "merged_subscriber_counts = subscribers_per_admin2_per_day_results.merge(\n",
    "    total_subscribers_per_day_results.rename(columns={\"value\": \"total_subscribers\"}), on=\"date\"\n",
    ")\n",
    "\n",
    "# Divide sub count by total subs to get scaled sub count\n",
    "merged_subscriber_counts[\"scaled_subscriber_count\"] = (\n",
    "    merged_subscriber_counts.value / merged_subscriber_counts.total_subscribers\n",
    ")\n",
    "\n",
    "merged_subscriber_counts"
   ]
  },
  {
   "cell_type": "code",
   "execution_count": 182,
   "metadata": {},
   "outputs": [
    {
     "data": {
      "text/plain": [
       "pcod\n",
       "GHA.1.10_1    0.004650\n",
       "GHA.1.11_1    0.009366\n",
       "GHA.1.12_1    0.005379\n",
       "GHA.1.13_1    0.011214\n",
       "GHA.1.14_1    0.006864\n",
       "                ...   \n",
       "GHA.9.5_1     0.005901\n",
       "GHA.9.6_1     0.002443\n",
       "GHA.9.7_1     0.006250\n",
       "GHA.9.8_1     0.009675\n",
       "GHA.9.9_1     0.004555\n",
       "Name: scaled_subscriber_count, Length: 137, dtype: float64"
      ]
     },
     "execution_count": 182,
     "metadata": {},
     "output_type": "execute_result"
    }
   ],
   "source": [
    "# Baseline median\n",
    "baseline_start = \"2016-02-01\"\n",
    "baseline_end = \"2016-02-29\"\n",
    "\n",
    "scaled_subscriber_count_baseline = merged_subscriber_counts[\n",
    "    (merged_subscriber_counts.date >= baseline_start)\n",
    "    & (merged_subscriber_counts.date < baseline_end)\n",
    "].groupby(\"pcod\").median().scaled_subscriber_count\n",
    "scaled_subscriber_count_baseline"
   ]
  },
  {
   "cell_type": "code",
   "execution_count": 183,
   "metadata": {},
   "outputs": [
    {
     "data": {
      "text/html": [
       "<div>\n",
       "<style scoped>\n",
       "    .dataframe tbody tr th:only-of-type {\n",
       "        vertical-align: middle;\n",
       "    }\n",
       "\n",
       "    .dataframe tbody tr th {\n",
       "        vertical-align: top;\n",
       "    }\n",
       "\n",
       "    .dataframe thead th {\n",
       "        text-align: right;\n",
       "    }\n",
       "</style>\n",
       "<table border=\"1\" class=\"dataframe\">\n",
       "  <thead>\n",
       "    <tr style=\"text-align: right;\">\n",
       "      <th></th>\n",
       "      <th>pcod</th>\n",
       "      <th>value</th>\n",
       "      <th>date</th>\n",
       "      <th>total_subscribers</th>\n",
       "      <th>scaled_subscriber_count</th>\n",
       "      <th>scaled_subscriber_count_baseline</th>\n",
       "    </tr>\n",
       "  </thead>\n",
       "  <tbody>\n",
       "    <tr>\n",
       "      <th>0</th>\n",
       "      <td>GHA.10.10_1</td>\n",
       "      <td>64982</td>\n",
       "      <td>2016-02-03</td>\n",
       "      <td>2138207</td>\n",
       "      <td>0.030391</td>\n",
       "      <td>0.030399</td>\n",
       "    </tr>\n",
       "    <tr>\n",
       "      <th>137</th>\n",
       "      <td>GHA.10.10_1</td>\n",
       "      <td>65110</td>\n",
       "      <td>2016-02-04</td>\n",
       "      <td>2136691</td>\n",
       "      <td>0.030472</td>\n",
       "      <td>0.030399</td>\n",
       "    </tr>\n",
       "    <tr>\n",
       "      <th>274</th>\n",
       "      <td>GHA.10.10_1</td>\n",
       "      <td>64911</td>\n",
       "      <td>2016-02-07</td>\n",
       "      <td>2137192</td>\n",
       "      <td>0.030372</td>\n",
       "      <td>0.030399</td>\n",
       "    </tr>\n",
       "    <tr>\n",
       "      <th>411</th>\n",
       "      <td>GHA.10.10_1</td>\n",
       "      <td>64948</td>\n",
       "      <td>2016-02-10</td>\n",
       "      <td>2136868</td>\n",
       "      <td>0.030394</td>\n",
       "      <td>0.030399</td>\n",
       "    </tr>\n",
       "    <tr>\n",
       "      <th>548</th>\n",
       "      <td>GHA.10.10_1</td>\n",
       "      <td>65159</td>\n",
       "      <td>2016-02-11</td>\n",
       "      <td>2137027</td>\n",
       "      <td>0.030490</td>\n",
       "      <td>0.030399</td>\n",
       "    </tr>\n",
       "    <tr>\n",
       "      <th>...</th>\n",
       "      <td>...</td>\n",
       "      <td>...</td>\n",
       "      <td>...</td>\n",
       "      <td>...</td>\n",
       "      <td>...</td>\n",
       "      <td>...</td>\n",
       "    </tr>\n",
       "    <tr>\n",
       "      <th>5036</th>\n",
       "      <td>GHA.9.9_1</td>\n",
       "      <td>11812</td>\n",
       "      <td>2016-04-07</td>\n",
       "      <td>2137304</td>\n",
       "      <td>0.005527</td>\n",
       "      <td>0.004555</td>\n",
       "    </tr>\n",
       "    <tr>\n",
       "      <th>5173</th>\n",
       "      <td>GHA.9.9_1</td>\n",
       "      <td>11796</td>\n",
       "      <td>2016-04-08</td>\n",
       "      <td>2137708</td>\n",
       "      <td>0.005518</td>\n",
       "      <td>0.004555</td>\n",
       "    </tr>\n",
       "    <tr>\n",
       "      <th>5310</th>\n",
       "      <td>GHA.9.9_1</td>\n",
       "      <td>11770</td>\n",
       "      <td>2016-04-09</td>\n",
       "      <td>2137087</td>\n",
       "      <td>0.005507</td>\n",
       "      <td>0.004555</td>\n",
       "    </tr>\n",
       "    <tr>\n",
       "      <th>5447</th>\n",
       "      <td>GHA.9.9_1</td>\n",
       "      <td>11864</td>\n",
       "      <td>2016-04-10</td>\n",
       "      <td>2135913</td>\n",
       "      <td>0.005555</td>\n",
       "      <td>0.004555</td>\n",
       "    </tr>\n",
       "    <tr>\n",
       "      <th>5584</th>\n",
       "      <td>GHA.9.9_1</td>\n",
       "      <td>11849</td>\n",
       "      <td>2016-04-11</td>\n",
       "      <td>2137014</td>\n",
       "      <td>0.005545</td>\n",
       "      <td>0.004555</td>\n",
       "    </tr>\n",
       "  </tbody>\n",
       "</table>\n",
       "<p>5585 rows × 6 columns</p>\n",
       "</div>"
      ],
      "text/plain": [
       "             pcod  value       date  total_subscribers  \\\n",
       "0     GHA.10.10_1  64982 2016-02-03            2138207   \n",
       "137   GHA.10.10_1  65110 2016-02-04            2136691   \n",
       "274   GHA.10.10_1  64911 2016-02-07            2137192   \n",
       "411   GHA.10.10_1  64948 2016-02-10            2136868   \n",
       "548   GHA.10.10_1  65159 2016-02-11            2137027   \n",
       "...           ...    ...        ...                ...   \n",
       "5036    GHA.9.9_1  11812 2016-04-07            2137304   \n",
       "5173    GHA.9.9_1  11796 2016-04-08            2137708   \n",
       "5310    GHA.9.9_1  11770 2016-04-09            2137087   \n",
       "5447    GHA.9.9_1  11864 2016-04-10            2135913   \n",
       "5584    GHA.9.9_1  11849 2016-04-11            2137014   \n",
       "\n",
       "      scaled_subscriber_count  scaled_subscriber_count_baseline  \n",
       "0                    0.030391                          0.030399  \n",
       "137                  0.030472                          0.030399  \n",
       "274                  0.030372                          0.030399  \n",
       "411                  0.030394                          0.030399  \n",
       "548                  0.030490                          0.030399  \n",
       "...                       ...                               ...  \n",
       "5036                 0.005527                          0.004555  \n",
       "5173                 0.005518                          0.004555  \n",
       "5310                 0.005507                          0.004555  \n",
       "5447                 0.005555                          0.004555  \n",
       "5584                 0.005545                          0.004555  \n",
       "\n",
       "[5585 rows x 6 columns]"
      ]
     },
     "execution_count": 183,
     "metadata": {},
     "output_type": "execute_result"
    }
   ],
   "source": [
    "merged_subscriber_counts = merged_subscriber_counts.merge(\n",
    "    scaled_subscriber_count_baseline,\n",
    "    left_on=\"pcod\",\n",
    "    right_index=True,\n",
    "    suffixes=(\"\", \"_baseline\")\n",
    ")\n",
    "\n",
    "merged_subscriber_counts"
   ]
  },
  {
   "cell_type": "code",
   "execution_count": 184,
   "metadata": {},
   "outputs": [
    {
     "data": {
      "text/html": [
       "<div>\n",
       "<style scoped>\n",
       "    .dataframe tbody tr th:only-of-type {\n",
       "        vertical-align: middle;\n",
       "    }\n",
       "\n",
       "    .dataframe tbody tr th {\n",
       "        vertical-align: top;\n",
       "    }\n",
       "\n",
       "    .dataframe thead th {\n",
       "        text-align: right;\n",
       "    }\n",
       "</style>\n",
       "<table border=\"1\" class=\"dataframe\">\n",
       "  <thead>\n",
       "    <tr style=\"text-align: right;\">\n",
       "      <th></th>\n",
       "      <th>pcod</th>\n",
       "      <th>value</th>\n",
       "      <th>date</th>\n",
       "      <th>total_subscribers</th>\n",
       "      <th>scaled_subscriber_count</th>\n",
       "      <th>scaled_subscriber_count_baseline</th>\n",
       "      <th>percent_change</th>\n",
       "    </tr>\n",
       "  </thead>\n",
       "  <tbody>\n",
       "    <tr>\n",
       "      <th>0</th>\n",
       "      <td>GHA.10.10_1</td>\n",
       "      <td>64982</td>\n",
       "      <td>2016-02-03</td>\n",
       "      <td>2138207</td>\n",
       "      <td>0.030391</td>\n",
       "      <td>0.030399</td>\n",
       "      <td>-0.027144</td>\n",
       "    </tr>\n",
       "    <tr>\n",
       "      <th>137</th>\n",
       "      <td>GHA.10.10_1</td>\n",
       "      <td>65110</td>\n",
       "      <td>2016-02-04</td>\n",
       "      <td>2136691</td>\n",
       "      <td>0.030472</td>\n",
       "      <td>0.030399</td>\n",
       "      <td>0.240851</td>\n",
       "    </tr>\n",
       "    <tr>\n",
       "      <th>274</th>\n",
       "      <td>GHA.10.10_1</td>\n",
       "      <td>64911</td>\n",
       "      <td>2016-02-07</td>\n",
       "      <td>2137192</td>\n",
       "      <td>0.030372</td>\n",
       "      <td>0.030399</td>\n",
       "      <td>-0.088948</td>\n",
       "    </tr>\n",
       "    <tr>\n",
       "      <th>411</th>\n",
       "      <td>GHA.10.10_1</td>\n",
       "      <td>64948</td>\n",
       "      <td>2016-02-10</td>\n",
       "      <td>2136868</td>\n",
       "      <td>0.030394</td>\n",
       "      <td>0.030399</td>\n",
       "      <td>-0.016840</td>\n",
       "    </tr>\n",
       "    <tr>\n",
       "      <th>548</th>\n",
       "      <td>GHA.10.10_1</td>\n",
       "      <td>65159</td>\n",
       "      <td>2016-02-11</td>\n",
       "      <td>2137027</td>\n",
       "      <td>0.030490</td>\n",
       "      <td>0.030399</td>\n",
       "      <td>0.300517</td>\n",
       "    </tr>\n",
       "    <tr>\n",
       "      <th>...</th>\n",
       "      <td>...</td>\n",
       "      <td>...</td>\n",
       "      <td>...</td>\n",
       "      <td>...</td>\n",
       "      <td>...</td>\n",
       "      <td>...</td>\n",
       "      <td>...</td>\n",
       "    </tr>\n",
       "    <tr>\n",
       "      <th>5036</th>\n",
       "      <td>GHA.9.9_1</td>\n",
       "      <td>11812</td>\n",
       "      <td>2016-04-07</td>\n",
       "      <td>2137304</td>\n",
       "      <td>0.005527</td>\n",
       "      <td>0.004555</td>\n",
       "      <td>21.333545</td>\n",
       "    </tr>\n",
       "    <tr>\n",
       "      <th>5173</th>\n",
       "      <td>GHA.9.9_1</td>\n",
       "      <td>11796</td>\n",
       "      <td>2016-04-08</td>\n",
       "      <td>2137708</td>\n",
       "      <td>0.005518</td>\n",
       "      <td>0.004555</td>\n",
       "      <td>21.146293</td>\n",
       "    </tr>\n",
       "    <tr>\n",
       "      <th>5310</th>\n",
       "      <td>GHA.9.9_1</td>\n",
       "      <td>11770</td>\n",
       "      <td>2016-04-09</td>\n",
       "      <td>2137087</td>\n",
       "      <td>0.005507</td>\n",
       "      <td>0.004555</td>\n",
       "      <td>20.914395</td>\n",
       "    </tr>\n",
       "    <tr>\n",
       "      <th>5447</th>\n",
       "      <td>GHA.9.9_1</td>\n",
       "      <td>11864</td>\n",
       "      <td>2016-04-10</td>\n",
       "      <td>2135913</td>\n",
       "      <td>0.005555</td>\n",
       "      <td>0.004555</td>\n",
       "      <td>21.947058</td>\n",
       "    </tr>\n",
       "    <tr>\n",
       "      <th>5584</th>\n",
       "      <td>GHA.9.9_1</td>\n",
       "      <td>11849</td>\n",
       "      <td>2016-04-11</td>\n",
       "      <td>2137014</td>\n",
       "      <td>0.005545</td>\n",
       "      <td>0.004555</td>\n",
       "      <td>21.730128</td>\n",
       "    </tr>\n",
       "  </tbody>\n",
       "</table>\n",
       "<p>5585 rows × 7 columns</p>\n",
       "</div>"
      ],
      "text/plain": [
       "             pcod  value       date  total_subscribers  \\\n",
       "0     GHA.10.10_1  64982 2016-02-03            2138207   \n",
       "137   GHA.10.10_1  65110 2016-02-04            2136691   \n",
       "274   GHA.10.10_1  64911 2016-02-07            2137192   \n",
       "411   GHA.10.10_1  64948 2016-02-10            2136868   \n",
       "548   GHA.10.10_1  65159 2016-02-11            2137027   \n",
       "...           ...    ...        ...                ...   \n",
       "5036    GHA.9.9_1  11812 2016-04-07            2137304   \n",
       "5173    GHA.9.9_1  11796 2016-04-08            2137708   \n",
       "5310    GHA.9.9_1  11770 2016-04-09            2137087   \n",
       "5447    GHA.9.9_1  11864 2016-04-10            2135913   \n",
       "5584    GHA.9.9_1  11849 2016-04-11            2137014   \n",
       "\n",
       "      scaled_subscriber_count  scaled_subscriber_count_baseline  \\\n",
       "0                    0.030391                          0.030399   \n",
       "137                  0.030472                          0.030399   \n",
       "274                  0.030372                          0.030399   \n",
       "411                  0.030394                          0.030399   \n",
       "548                  0.030490                          0.030399   \n",
       "...                       ...                               ...   \n",
       "5036                 0.005527                          0.004555   \n",
       "5173                 0.005518                          0.004555   \n",
       "5310                 0.005507                          0.004555   \n",
       "5447                 0.005555                          0.004555   \n",
       "5584                 0.005545                          0.004555   \n",
       "\n",
       "      percent_change  \n",
       "0          -0.027144  \n",
       "137         0.240851  \n",
       "274        -0.088948  \n",
       "411        -0.016840  \n",
       "548         0.300517  \n",
       "...              ...  \n",
       "5036       21.333545  \n",
       "5173       21.146293  \n",
       "5310       20.914395  \n",
       "5447       21.947058  \n",
       "5584       21.730128  \n",
       "\n",
       "[5585 rows x 7 columns]"
      ]
     },
     "execution_count": 184,
     "metadata": {},
     "output_type": "execute_result"
    }
   ],
   "source": [
    "merged_subscriber_counts[\"percent_change\"] = (\n",
    "    merged_subscriber_counts.scaled_subscriber_count / merged_subscriber_counts.scaled_subscriber_count_baseline - 1\n",
    ") * 100\n",
    "merged_subscriber_counts"
   ]
  },
  {
   "cell_type": "code",
   "execution_count": 190,
   "metadata": {},
   "outputs": [
    {
     "data": {
      "text/plain": [
       "(-100.0, 31.561113800097285)"
      ]
     },
     "execution_count": 190,
     "metadata": {},
     "output_type": "execute_result"
    },
    {
     "data": {
      "image/png": "[encoded data removed]",
      "text/plain": [
       "<Figure size 432x288 with 1 Axes>"
      ]
     },
     "metadata": {
      "needs_background": "light"
     },
     "output_type": "display_data"
    }
   ],
   "source": [
    "# Choose a few districts to show\n",
    "display_districts = {\n",
    "    \"Accra\": \"GHA.5.1_1\",\n",
    "    \"Kumasi\": \"GHA.1.16_1\",\n",
    "    \"Tamale\": \"GHA.6.13_1\",\n",
    "}\n",
    "\n",
    "# Plot % change over time for the chosen districts\n",
    "plt.figure()\n",
    "for name, pcod in display_districts.items():\n",
    "    merged_subscriber_counts[merged_subscriber_counts.pcod == pcod].plot(\n",
    "        ax=plt.gca(), x=\"date\", y=\"percent_change\", marker=\".\", ls=\"\", label=name\n",
    "    )\n",
    "plt.axhline(0, ls=\":\", c='k')\n",
    "plt.ylim(bottom=-100)"
   ]
  },
  {
   "cell_type": "markdown",
   "metadata": {},
   "source": [
    "#### Average admin2 per subscriber in each admin1\n",
    "\n",
    "- Add admin1 pcode column to admin2 counts\n",
    "- Sum admin2 counts per admin1\n",
    "- Join to admin1 counts\n",
    "- Divide\n",
    "- Plot over time for all admin1 regions"
   ]
  },
  {
   "cell_type": "markdown",
   "metadata": {},
   "source": [
    "#### Scaled OD matrix counts\n",
    "- Same process as for scaled admin2 counts\n",
    "- Show a map of before vs after for either Accra or Kumasi (not sure which will look better)"
   ]
  },
  {
   "cell_type": "markdown",
   "metadata": {},
   "source": [
    "### Summary\n",
    "\n",
    "- What we did\n",
    "- What it showed\n",
    "- Maybe some advice on how this could be modified to do other things"
   ]
  }
 ],
 "metadata": {
  "kernelspec": {
   "display_name": "Python 3",
   "language": "python",
   "name": "python3"
  },
  "language_info": {
   "codemirror_mode": {
    "name": "ipython",
    "version": 3
   },
   "file_extension": ".py",
   "mimetype": "text/x-python",
   "name": "python",
   "nbconvert_exporter": "python",
   "pygments_lexer": "ipython3",
   "version": "3.8.0"
  }
 },
 "nbformat": 4,
 "nbformat_minor": 4
}
