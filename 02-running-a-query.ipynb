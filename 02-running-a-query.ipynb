{
 "cells": [
  {
   "cell_type": "markdown",
   "metadata": {},
   "source": [
    "# Running a query\n",
    "In the previous tutorial ([Getting started with FlowClient](01-getting-started-with-flowclient.ipynb)), you learned how to use the FlowClient library to connect to a FlowKit server.\n",
    "\n",
    "In this tutorial you will learn how to use FlowClient to run a FlowKit query and get the result as a pandas dataframe.\n",
    "\n",
    "## What is a query?\n",
    "\n",
    "A FlowKit query is a set of parameters that specify a result that can be calculated from the CDR data within the FlowKit database. FlowClient enables you to specify a query, and ask the FlowKit server to run the query and return the result. Some examples of the kinds of queries that FlowKit supports are:\n",
    "\n",
    "- `unique_subscriber_counts`: Count the number of unique susbcribers who were active in a location during a specified time period,  \n",
    "- `location_event_counts`: Count the number of CDR events (calls, SMS, ...) in a location during a specified time period,  \n",
    "- `total_network_objects`: Count the number of network objects (cells) in a location during a specified time period.  \n",
    "\n",
    "A full list of available query kinds can be found on the [FlowKit documentation website](https://flowkit.xyz/flowclient/flowclient/aggregates/).\n",
    "\n",
    "There are some restrictions on the query results you are allowed to get from FlowKit:\n",
    "\n",
    "- You cannot get results which provide information about individual subscribers - FlowKit will only provide results which are aggregated to groups of subscribers (for example, number of subscribers in a region).  \n",
    "- Only aggregates of more than 15 subscribers are included in the results (for example, if one region only contains 15 subscribers, the subscriber count for that region will not be included in the output from FlowKit).  \n",
    "- You can only get the result of a query if your access token allows it. An access token can control access to query kinds (for example, you may be allowed to get the result of a `location_event_counts` query but not a `total_network_objects` query), and also query parameters (for example, you may be allowed to get the unique subscriber counts per region (admin1), but not per district (admin2)).  \n",
    "\n",
    "## Run a query\n",
    "\n",
    "We will start this tutorial by getting the result of a `unique_subscriber_counts` query as a pandas DataFrame.\n",
    "\n",
    "### 1. Import the flowclient library"
   ]
  },
  {
   "cell_type": "code",
   "execution_count": 11,
   "metadata": {},
   "outputs": [],
   "source": [
    "import flowclient as fc"
   ]
  },
  {
   "cell_type": "markdown",
   "metadata": {},
   "source": [
    "### 2. Connect to FlowKit\n",
    "Follow the steps in the [previous tutorial](01-getting-started-with-flowclient.ipynb) to connect to the FlowKit API."
   ]
  },
  {
   "cell_type": "code",
   "execution_count": 12,
   "metadata": {},
   "outputs": [],
   "source": [
    "token = \n",
    "\n",
    "conn = fc.connect(\n",
    "    url=\"https://api.flowcloud-ghana.flowminder.org\",\n",
    "    token=token,\n",
    ")"
   ]
  },
  {
   "cell_type": "markdown",
   "metadata": {},
   "source": [
    "### 3. Define a query\n",
    "Let's now define a query that will return the count of unique subscribers per district on 1st January 2016. To do this, we can use the flowclient `unique_subscriber_counts` function. We need to provide 4 parameters:\n",
    "\n",
    "- `connection`: This is the FlowKit connection `conn` that we created in the previous step,  \n",
    "- `start_date`: This is the start date of the time interval over which we want to count subscribers. In this case, it's `\"2016-01-01\"`.\n",
    "- `end_date`: This is the day _after_ the last date in the time interval (in FlowKit queries, time intervals run from midnight at the beginning of `start_date` to midnight at the beginning of `end_date`). In this case we want to count subscribers on just one day, so we set `end_date = \"2016-01-02\"` (the day after `start_date`).\n",
    "- `aggregation_unit`: This parameter specifies the set of locations at which we want to count subscribers. In this case, we want the locations to be districts, so we set `aggregation_unit = \"admin2\"`. The `aggregation_unit` parameter will be explained in more detail in the ['Geography' tutorial](03-geography.ipynb).  "
   ]
  },
  {
   "cell_type": "code",
   "execution_count": 13,
   "metadata": {},
   "outputs": [],
   "source": [
    "subscriber_counts_query = fc.unique_subscriber_counts(\n",
    "    connection=conn,\n",
    "    start_date=\"2016-01-01\",\n",
    "    end_date=\"2016-01-02\",\n",
    "    aggregation_unit=\"admin2\",\n",
    ")"
   ]
  },
  {
   "cell_type": "markdown",
   "metadata": {},
   "source": [
    "We have created an APIQuery object, which represents a query that we can run in FlowKit.  \n",
    "**Note:** We don't yet have the result of the query. In fact, we haven't yet asked the FlowKit server to run this query."
   ]
  },
  {
   "cell_type": "code",
   "execution_count": 4,
   "metadata": {},
   "outputs": [
    {
     "data": {
      "text/plain": [
       "flowclient.api_query.APIQuery"
      ]
     },
     "execution_count": 4,
     "metadata": {},
     "output_type": "execute_result"
    }
   ],
   "source": [
    "type(subscriber_counts_query)"
   ]
  },
  {
   "cell_type": "markdown",
   "metadata": {},
   "source": [
    "If you need to check which parameters you provided when you defined the query, you can check the `parameters` attribute of the query object.  \n",
    "(Don't worry about the additional parameters with value `None` - these are optional parameters that are not important for now)."
   ]
  },
  {
   "cell_type": "code",
   "execution_count": 14,
   "metadata": {},
   "outputs": [
    {
     "data": {
      "text/plain": [
       "{'query_kind': 'unique_subscriber_counts',\n",
       " 'start_date': '2016-01-01',\n",
       " 'end_date': '2016-01-02',\n",
       " 'aggregation_unit': 'admin2',\n",
       " 'mapping_table': None,\n",
       " 'geom_table': None,\n",
       " 'geom_table_join_column': None,\n",
       " 'event_types': None}"
      ]
     },
     "execution_count": 14,
     "metadata": {},
     "output_type": "execute_result"
    }
   ],
   "source": [
    "subscriber_counts_query.parameters"
   ]
  },
  {
   "cell_type": "markdown",
   "metadata": {},
   "source": [
    "### 4. Get the query result\n",
    "Now that we have defined our 'unique subscriber counts' query, we can ask the FlowKit server to give us the result of the query. We do this by using the `get_result()` method, which returns the result as a pandas DataFrame by default."
   ]
  },
  {
   "cell_type": "code",
   "execution_count": 9,
   "metadata": {},
   "outputs": [],
   "source": [
    "result_of_subscriber_counts_query = subscriber_counts_query.get_result()"
   ]
  },
  {
   "cell_type": "markdown",
   "metadata": {},
   "source": [
    "Calling the `get_result` method actually did several things:\n",
    "\n",
    "1. Sent the query parameters to the FlowKit server, and asked the server to run the query,  \n",
    "2. Waited until the query had finished running,  \n",
    "3. Asked FlowKit to send back the result of the query.  \n",
    "\n",
    "You may have seen a progress bar while waiting for the query result. FlowKit splits each query into sub-queries, and the progress bar indicates how many of the sub-queries have finished running. If you did not see a progress bar, this is usually because the query result has already been calculated. FlowKit caches the results of queries, so that the result doesn't need to be re-calculated if a query is run a second time.\n",
    "\n",
    "We can now look at the pandas DataFrame `result_of_subscriber_counts_query`, which is the result of our query."
   ]
  },
  {
   "cell_type": "code",
   "execution_count": 10,
   "metadata": {},
   "outputs": [
    {
     "data": {
      "text/html": [
       "<div>\n",
       "<style scoped>\n",
       "    .dataframe tbody tr th:only-of-type {\n",
       "        vertical-align: middle;\n",
       "    }\n",
       "\n",
       "    .dataframe tbody tr th {\n",
       "        vertical-align: top;\n",
       "    }\n",
       "\n",
       "    .dataframe thead th {\n",
       "        text-align: right;\n",
       "    }\n",
       "</style>\n",
       "<table border=\"1\" class=\"dataframe\">\n",
       "  <thead>\n",
       "    <tr style=\"text-align: right;\">\n",
       "      <th></th>\n",
       "      <th>pcod</th>\n",
       "      <th>value</th>\n",
       "    </tr>\n",
       "  </thead>\n",
       "  <tbody>\n",
       "    <tr>\n",
       "      <th>0</th>\n",
       "      <td>GHA.10.10_1</td>\n",
       "      <td>64922</td>\n",
       "    </tr>\n",
       "    <tr>\n",
       "      <th>1</th>\n",
       "      <td>GHA.10.1_1</td>\n",
       "      <td>13965</td>\n",
       "    </tr>\n",
       "    <tr>\n",
       "      <th>2</th>\n",
       "      <td>GHA.10.11_1</td>\n",
       "      <td>9010</td>\n",
       "    </tr>\n",
       "    <tr>\n",
       "      <th>3</th>\n",
       "      <td>GHA.10.12_1</td>\n",
       "      <td>14396</td>\n",
       "    </tr>\n",
       "    <tr>\n",
       "      <th>4</th>\n",
       "      <td>GHA.10.13_1</td>\n",
       "      <td>22824</td>\n",
       "    </tr>\n",
       "    <tr>\n",
       "      <th>...</th>\n",
       "      <td>...</td>\n",
       "      <td>...</td>\n",
       "    </tr>\n",
       "    <tr>\n",
       "      <th>132</th>\n",
       "      <td>GHA.9.5_1</td>\n",
       "      <td>12638</td>\n",
       "    </tr>\n",
       "    <tr>\n",
       "      <th>133</th>\n",
       "      <td>GHA.9.6_1</td>\n",
       "      <td>5254</td>\n",
       "    </tr>\n",
       "    <tr>\n",
       "      <th>134</th>\n",
       "      <td>GHA.9.7_1</td>\n",
       "      <td>13289</td>\n",
       "    </tr>\n",
       "    <tr>\n",
       "      <th>135</th>\n",
       "      <td>GHA.9.8_1</td>\n",
       "      <td>20700</td>\n",
       "    </tr>\n",
       "    <tr>\n",
       "      <th>136</th>\n",
       "      <td>GHA.9.9_1</td>\n",
       "      <td>9769</td>\n",
       "    </tr>\n",
       "  </tbody>\n",
       "</table>\n",
       "<p>137 rows × 2 columns</p>\n",
       "</div>"
      ],
      "text/plain": [
       "            pcod  value\n",
       "0    GHA.10.10_1  64922\n",
       "1     GHA.10.1_1  13965\n",
       "2    GHA.10.11_1   9010\n",
       "3    GHA.10.12_1  14396\n",
       "4    GHA.10.13_1  22824\n",
       "..           ...    ...\n",
       "132    GHA.9.5_1  12638\n",
       "133    GHA.9.6_1   5254\n",
       "134    GHA.9.7_1  13289\n",
       "135    GHA.9.8_1  20700\n",
       "136    GHA.9.9_1   9769\n",
       "\n",
       "[137 rows x 2 columns]"
      ]
     },
     "execution_count": 10,
     "metadata": {},
     "output_type": "execute_result"
    }
   ],
   "source": [
    "result_of_subscriber_counts_query"
   ]
  },
  {
   "cell_type": "markdown",
   "metadata": {},
   "source": [
    "The result DataFrame has two columns:\n",
    "\n",
    "- 'pcod' is the P-code which uniquely identifies a district,  \n",
    "- 'value' is the number of unique subscribers who were active in that district on 1st January 2016.  \n",
    "\n",
    "Now that you have got the result of a query, try going back to step 3 (\"Define a query\"), and change the `start_date` and `end_date` in the query definition, and then get the result of this modified query. You can choose any dates between 2016-01-01 and 2016-07-04 (these are all the dates that are available in this FlowKit, as you saw in the previous tutorial)."
   ]
  },
  {
   "cell_type": "raw",
   "metadata": {},
   "source": [
    "    - Long-running queries: run and status\n",
    "        - Some queries can take a long time - don't want to have to wait for them to finish before doing something else\n",
    "        - Can use run / check status / get result workflow\n",
    "        - Create new query\n",
    "        - status: not running\n",
    "        - run\n",
    "        - status: queued or executing\n",
    "        - Create and run another query\n",
    "        - Check status of both\n",
    "        - Once it's finished, status is \"finished\"\n",
    "        - At any time, can use get_result to wait and get result. If it's already finished, will return result immediately\n",
    "        - This way, can run many queries at once, rather than waiting for one to finish before starting the next\n",
    "    - Any other query object methods/attributes (if there are any - I'll cover result format in the geography tutorial)"
   ]
  },
  {
   "cell_type": "markdown",
   "metadata": {},
   "source": [
    "## Long-running queries\n",
    "Some queries can take a long time to run. If we use `get_result` straight away, we will have to wait until the query finishes running before we can do anything else.\n",
    "\n",
    "Instead, we can use slightly different workflow which will allow us to run other code while we wait for a query result to be ready:\n",
    "\n",
    "1. Define a query,  \n",
    "2. Set the query running (without waiting for the result),  \n",
    "3. Check the status of the query,  \n",
    "4. Once the query has finished running, get the result.  \n",
    "\n",
    "### 1. Define queries\n",
    "\n",
    "As an example, let's start by defining two new queries: a 'location event counts' query and a 'total network objects' query. We povide the same `start_date`, `end_date` and `aggregation_unit` as in the previous example. The `location_event_counts` and `total_network_objects` query kinds each have an additional parameter (`location_event_counts` queries have a `count_interval` parameter, and `total_network_objects` queries have a `total_by` parameter). In both cases, these parameters specify the time intervals over which results should be aggregated. Here we'll use the `\"day\"` time interval, which means we'll get one result per district for each day between `start_date` and `end_date` (just one day, in this example)."
   ]
  },
  {
   "cell_type": "code",
   "execution_count": 24,
   "metadata": {},
   "outputs": [],
   "source": [
    "events_query = fc.location_event_counts(\n",
    "    connection=conn,\n",
    "    start_date=\"2016-01-01\",\n",
    "    end_date=\"2016-01-02\",\n",
    "    aggregation_unit=\"admin2\",\n",
    "    count_interval=\"day\",\n",
    ")\n",
    "\n",
    "network_objects_query = fc.total_network_objects(\n",
    "    connection=conn,\n",
    "    start_date=\"2016-01-01\",\n",
    "    end_date=\"2016-01-02\",\n",
    "    aggregation_unit=\"admin2\",\n",
    "    total_by=\"day\",\n",
    ")"
   ]
  },
  {
   "cell_type": "markdown",
   "metadata": {},
   "source": [
    "Query objects have a `status` property, which will tell us the status of the query(e.g. 'executing' or 'completed'). The status of the two new queries is 'not running', because we haven't asked FlowKit to run them yet:"
   ]
  },
  {
   "cell_type": "code",
   "execution_count": 25,
   "metadata": {},
   "outputs": [
    {
     "data": {
      "text/plain": [
       "'not_running'"
      ]
     },
     "execution_count": 25,
     "metadata": {},
     "output_type": "execute_result"
    }
   ],
   "source": [
    "events_query.status"
   ]
  },
  {
   "cell_type": "code",
   "execution_count": 26,
   "metadata": {},
   "outputs": [
    {
     "data": {
      "text/plain": [
       "'not_running'"
      ]
     },
     "execution_count": 26,
     "metadata": {},
     "output_type": "execute_result"
    }
   ],
   "source": [
    "network_objects_query.status"
   ]
  },
  {
   "cell_type": "markdown",
   "metadata": {},
   "source": [
    "### 2. Run the queries\n",
    "\n",
    "If we now called `events_query.get_result()`, we would have to wait until `events_query` finished before we could start running `network_objects_query`. Instead, we can use the `run` method to set both queries running without waiting for the results:"
   ]
  },
  {
   "cell_type": "code",
   "execution_count": 27,
   "metadata": {},
   "outputs": [],
   "source": [
    "events_query.run()\n",
    "network_objects_query.run()"
   ]
  },
  {
   "cell_type": "markdown",
   "metadata": {},
   "source": [
    "If we check the status again, we should find that both queries are now either 'queued', 'executing' or 'completed':"
   ]
  },
  {
   "cell_type": "code",
   "execution_count": 28,
   "metadata": {},
   "outputs": [
    {
     "data": {
      "text/plain": [
       "'completed'"
      ]
     },
     "execution_count": 28,
     "metadata": {},
     "output_type": "execute_result"
    }
   ],
   "source": [
    "events_query.status"
   ]
  },
  {
   "cell_type": "code",
   "execution_count": 29,
   "metadata": {},
   "outputs": [
    {
     "data": {
      "text/plain": [
       "'completed'"
      ]
     },
     "execution_count": 29,
     "metadata": {},
     "output_type": "execute_result"
    }
   ],
   "source": [
    "network_objects_query.status"
   ]
  },
  {
   "cell_type": "markdown",
   "metadata": {},
   "source": [
    "When we want to get the results of the queries, we can use `get_result` as we did previously. If a query has already finished, `get_result` will return the result immediately. If the query is still running, `get_result` will show a progress bar, and will wait until the query has finished before returning the result."
   ]
  },
  {
   "cell_type": "code",
   "execution_count": 30,
   "metadata": {},
   "outputs": [],
   "source": [
    "events_result = events_query.get_result()\n",
    "network_objects_result = network_objects_query.get_result()"
   ]
  },
  {
   "cell_type": "code",
   "execution_count": 31,
   "metadata": {},
   "outputs": [
    {
     "data": {
      "text/html": [
       "<div>\n",
       "<style scoped>\n",
       "    .dataframe tbody tr th:only-of-type {\n",
       "        vertical-align: middle;\n",
       "    }\n",
       "\n",
       "    .dataframe tbody tr th {\n",
       "        vertical-align: top;\n",
       "    }\n",
       "\n",
       "    .dataframe thead th {\n",
       "        text-align: right;\n",
       "    }\n",
       "</style>\n",
       "<table border=\"1\" class=\"dataframe\">\n",
       "  <thead>\n",
       "    <tr style=\"text-align: right;\">\n",
       "      <th></th>\n",
       "      <th>pcod</th>\n",
       "      <th>date</th>\n",
       "      <th>value</th>\n",
       "    </tr>\n",
       "  </thead>\n",
       "  <tbody>\n",
       "    <tr>\n",
       "      <th>0</th>\n",
       "      <td>GHA.10.10_1</td>\n",
       "      <td>2016-01-01</td>\n",
       "      <td>136103</td>\n",
       "    </tr>\n",
       "    <tr>\n",
       "      <th>1</th>\n",
       "      <td>GHA.10.1_1</td>\n",
       "      <td>2016-01-01</td>\n",
       "      <td>29092</td>\n",
       "    </tr>\n",
       "    <tr>\n",
       "      <th>2</th>\n",
       "      <td>GHA.10.11_1</td>\n",
       "      <td>2016-01-01</td>\n",
       "      <td>18329</td>\n",
       "    </tr>\n",
       "    <tr>\n",
       "      <th>3</th>\n",
       "      <td>GHA.10.12_1</td>\n",
       "      <td>2016-01-01</td>\n",
       "      <td>29829</td>\n",
       "    </tr>\n",
       "    <tr>\n",
       "      <th>4</th>\n",
       "      <td>GHA.10.13_1</td>\n",
       "      <td>2016-01-01</td>\n",
       "      <td>48162</td>\n",
       "    </tr>\n",
       "    <tr>\n",
       "      <th>...</th>\n",
       "      <td>...</td>\n",
       "      <td>...</td>\n",
       "      <td>...</td>\n",
       "    </tr>\n",
       "    <tr>\n",
       "      <th>132</th>\n",
       "      <td>GHA.9.5_1</td>\n",
       "      <td>2016-01-01</td>\n",
       "      <td>25780</td>\n",
       "    </tr>\n",
       "    <tr>\n",
       "      <th>133</th>\n",
       "      <td>GHA.9.6_1</td>\n",
       "      <td>2016-01-01</td>\n",
       "      <td>10862</td>\n",
       "    </tr>\n",
       "    <tr>\n",
       "      <th>134</th>\n",
       "      <td>GHA.9.7_1</td>\n",
       "      <td>2016-01-01</td>\n",
       "      <td>27528</td>\n",
       "    </tr>\n",
       "    <tr>\n",
       "      <th>135</th>\n",
       "      <td>GHA.9.8_1</td>\n",
       "      <td>2016-01-01</td>\n",
       "      <td>43417</td>\n",
       "    </tr>\n",
       "    <tr>\n",
       "      <th>136</th>\n",
       "      <td>GHA.9.9_1</td>\n",
       "      <td>2016-01-01</td>\n",
       "      <td>19764</td>\n",
       "    </tr>\n",
       "  </tbody>\n",
       "</table>\n",
       "<p>137 rows × 3 columns</p>\n",
       "</div>"
      ],
      "text/plain": [
       "            pcod        date   value\n",
       "0    GHA.10.10_1  2016-01-01  136103\n",
       "1     GHA.10.1_1  2016-01-01   29092\n",
       "2    GHA.10.11_1  2016-01-01   18329\n",
       "3    GHA.10.12_1  2016-01-01   29829\n",
       "4    GHA.10.13_1  2016-01-01   48162\n",
       "..           ...         ...     ...\n",
       "132    GHA.9.5_1  2016-01-01   25780\n",
       "133    GHA.9.6_1  2016-01-01   10862\n",
       "134    GHA.9.7_1  2016-01-01   27528\n",
       "135    GHA.9.8_1  2016-01-01   43417\n",
       "136    GHA.9.9_1  2016-01-01   19764\n",
       "\n",
       "[137 rows x 3 columns]"
      ]
     },
     "execution_count": 31,
     "metadata": {},
     "output_type": "execute_result"
    }
   ],
   "source": [
    "events_result"
   ]
  },
  {
   "cell_type": "code",
   "execution_count": 32,
   "metadata": {},
   "outputs": [
    {
     "data": {
      "text/html": [
       "<div>\n",
       "<style scoped>\n",
       "    .dataframe tbody tr th:only-of-type {\n",
       "        vertical-align: middle;\n",
       "    }\n",
       "\n",
       "    .dataframe tbody tr th {\n",
       "        vertical-align: top;\n",
       "    }\n",
       "\n",
       "    .dataframe thead th {\n",
       "        text-align: right;\n",
       "    }\n",
       "</style>\n",
       "<table border=\"1\" class=\"dataframe\">\n",
       "  <thead>\n",
       "    <tr style=\"text-align: right;\">\n",
       "      <th></th>\n",
       "      <th>pcod</th>\n",
       "      <th>value</th>\n",
       "      <th>datetime</th>\n",
       "    </tr>\n",
       "  </thead>\n",
       "  <tbody>\n",
       "    <tr>\n",
       "      <th>0</th>\n",
       "      <td>GHA.10.10_1</td>\n",
       "      <td>537</td>\n",
       "      <td>2016-01-01T00:00:00+00:00</td>\n",
       "    </tr>\n",
       "    <tr>\n",
       "      <th>1</th>\n",
       "      <td>GHA.10.1_1</td>\n",
       "      <td>116</td>\n",
       "      <td>2016-01-01T00:00:00+00:00</td>\n",
       "    </tr>\n",
       "    <tr>\n",
       "      <th>2</th>\n",
       "      <td>GHA.10.11_1</td>\n",
       "      <td>73</td>\n",
       "      <td>2016-01-01T00:00:00+00:00</td>\n",
       "    </tr>\n",
       "    <tr>\n",
       "      <th>3</th>\n",
       "      <td>GHA.10.12_1</td>\n",
       "      <td>119</td>\n",
       "      <td>2016-01-01T00:00:00+00:00</td>\n",
       "    </tr>\n",
       "    <tr>\n",
       "      <th>4</th>\n",
       "      <td>GHA.10.13_1</td>\n",
       "      <td>190</td>\n",
       "      <td>2016-01-01T00:00:00+00:00</td>\n",
       "    </tr>\n",
       "    <tr>\n",
       "      <th>...</th>\n",
       "      <td>...</td>\n",
       "      <td>...</td>\n",
       "      <td>...</td>\n",
       "    </tr>\n",
       "    <tr>\n",
       "      <th>132</th>\n",
       "      <td>GHA.9.5_1</td>\n",
       "      <td>105</td>\n",
       "      <td>2016-01-01T00:00:00+00:00</td>\n",
       "    </tr>\n",
       "    <tr>\n",
       "      <th>133</th>\n",
       "      <td>GHA.9.6_1</td>\n",
       "      <td>43</td>\n",
       "      <td>2016-01-01T00:00:00+00:00</td>\n",
       "    </tr>\n",
       "    <tr>\n",
       "      <th>134</th>\n",
       "      <td>GHA.9.7_1</td>\n",
       "      <td>110</td>\n",
       "      <td>2016-01-01T00:00:00+00:00</td>\n",
       "    </tr>\n",
       "    <tr>\n",
       "      <th>135</th>\n",
       "      <td>GHA.9.8_1</td>\n",
       "      <td>174</td>\n",
       "      <td>2016-01-01T00:00:00+00:00</td>\n",
       "    </tr>\n",
       "    <tr>\n",
       "      <th>136</th>\n",
       "      <td>GHA.9.9_1</td>\n",
       "      <td>77</td>\n",
       "      <td>2016-01-01T00:00:00+00:00</td>\n",
       "    </tr>\n",
       "  </tbody>\n",
       "</table>\n",
       "<p>137 rows × 3 columns</p>\n",
       "</div>"
      ],
      "text/plain": [
       "            pcod  value                   datetime\n",
       "0    GHA.10.10_1    537  2016-01-01T00:00:00+00:00\n",
       "1     GHA.10.1_1    116  2016-01-01T00:00:00+00:00\n",
       "2    GHA.10.11_1     73  2016-01-01T00:00:00+00:00\n",
       "3    GHA.10.12_1    119  2016-01-01T00:00:00+00:00\n",
       "4    GHA.10.13_1    190  2016-01-01T00:00:00+00:00\n",
       "..           ...    ...                        ...\n",
       "132    GHA.9.5_1    105  2016-01-01T00:00:00+00:00\n",
       "133    GHA.9.6_1     43  2016-01-01T00:00:00+00:00\n",
       "134    GHA.9.7_1    110  2016-01-01T00:00:00+00:00\n",
       "135    GHA.9.8_1    174  2016-01-01T00:00:00+00:00\n",
       "136    GHA.9.9_1     77  2016-01-01T00:00:00+00:00\n",
       "\n",
       "[137 rows x 3 columns]"
      ]
     },
     "execution_count": 32,
     "metadata": {},
     "output_type": "execute_result"
    }
   ],
   "source": [
    "network_objects_result"
   ]
  },
  {
   "cell_type": "markdown",
   "metadata": {},
   "source": [
    "Again, both of these queries have a 'pcod' column that identifies the district, and a 'value' column that contains the value for that district (in `events_result`, the 'value' column is the event count, and in `network_objects_result` the 'value' column is the number of cells). Each result also has a date column (`events_result` has 'date' and `network_objects_result` has 'datetime') - since we asked for results aggregated by day, and the time interval specified in the queries was just one day, the value in the 'date'/'datetime' column is the same for every row."
   ]
  },
  {
   "cell_type": "markdown",
   "metadata": {},
   "source": [
    "## Summary\n",
    "\n",
    "In this tutorial you have:\n",
    "- defined a Flowkit query,  \n",
    "- got the result of that query as a pandas DataFrame,  \n",
    "- used `query.run()` to set a query running without waiting for the result (this is useful for queries that take a long time to run),  \n",
    "- used `query.status` to check whether a query is running.  \n",
    "\n",
    "In the next tutorial ([Geography](03-geography.ipynb)), you will learn how to aggregate results to different spatial units, and how to get the geographic boundaries of the spatial aggregation units."
   ]
  }
 ],
 "metadata": {
  "kernelspec": {
   "display_name": "Python 3",
   "language": "python",
   "name": "python3"
  },
  "language_info": {
   "codemirror_mode": {
    "name": "ipython",
    "version": 3
   },
   "file_extension": ".py",
   "mimetype": "text/x-python",
   "name": "python",
   "nbconvert_exporter": "python",
   "pygments_lexer": "ipython3",
   "version": "3.8.0"
  }
 },
 "nbformat": 4,
 "nbformat_minor": 4
}
