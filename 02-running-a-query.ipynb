{
 "cells": [
  {
   "cell_type": "markdown",
   "metadata": {},
   "source": [
    "# Running a query\n",
    "In the previous tutorial ([Getting started with FlowClient](01-getting-started-with-flowclient.ipynb)), you learned how to use the FlowClient library to connect to a FlowKit server.\n",
    "\n",
    "In this tutorial you will learn how to use FlowClient to run a FlowKit query and get the result as a pandas dataframe.\n",
    "\n",
    "- What is a query?  \n",
    "- Limitations: only aggregates, only redacted, only what's allowed by token (which is more granular than just query kind)  \n",
    "    - Create connection (and link to previous tutorial for more details)\n",
    "    - Create (simple) query object (and explain what this is - not the result, and not yet communicated with server in any way). Explain parameters, but point to geography tutorial for more details of aggregation unit parameter\n",
    "    - Get result. Explain what this does - i.e. sends query to server to run, and waits until it can get the result, then gets it\n",
    "    - Explain progress bar (with details about FlowKit splitting query into sub-queries, and why (caching and re-use). For this simple query, probably only one component, but will see more complex ones later)\n",
    "    - Show result is a dataframe\n",
    "    - Long-running queries: run and status\n",
    "        - Some queries can take a long time - don't want to have to wait for them to finish before doing something else\n",
    "        - Can use run / check status / get result workflow\n",
    "        - Create new query\n",
    "        - status: not running\n",
    "        - run\n",
    "        - status: queued or executing\n",
    "        - Create and run another query\n",
    "        - Check status of both\n",
    "        - Once it's finished, status is \"finished\"\n",
    "        - At any time, can use get_result to wait and get result. If it's already finished, will return result immediately\n",
    "        - This way, can run many queries at once, rather than waiting for one to finish before starting the next\n",
    "    - Any other query object methods/attributes (if there are any - I'll cover result format in the geography tutorial)"
   ]
  },
  {
   "cell_type": "code",
   "execution_count": 1,
   "metadata": {},
   "outputs": [],
   "source": [
    "import flowclient as fc"
   ]
  },
  {
   "cell_type": "markdown",
   "metadata": {},
   "source": [
    "## Connect to FlowKit\n",
    "Follow the steps in the [previous tutorial](getting-started-with-flowclient.ipynb) to connect to the FlowKit API."
   ]
  },
  {
   "cell_type": "code",
   "execution_count": 2,
   "metadata": {},
   "outputs": [],
   "source": [
    "token = \n",
    "\n",
    "conn = fc.connect(\n",
    "    url=\"https://api.flowcloud-ghana.flowminder.org\",\n",
    "    token=token,\n",
    ")"
   ]
  },
  {
   "cell_type": "markdown",
   "metadata": {},
   "source": [
    "## Define a query\n",
    "We will run a 'unique subscriber counts' query (explain what this means). First, define the query:  \n",
    "(explain the parameters. Aggregation unit will be explained in more detail in the next tutorial)"
   ]
  },
  {
   "cell_type": "code",
   "execution_count": 8,
   "metadata": {},
   "outputs": [],
   "source": [
    "query = fc.unique_subscriber_counts(\n",
    "    connection=conn,\n",
    "    start_date=\"2016-01-01\",\n",
    "    end_date=\"2016-01-02\",\n",
    "    aggregation_unit=\"admin2\",\n",
    ")"
   ]
  },
  {
   "cell_type": "markdown",
   "metadata": {},
   "source": [
    "We have created an APIQuery object, which represents a query that we can run in FlowKit.  \n",
    "**Note:** We don't yet have the result of the query; in fact, we haven't yet asked the FlowKit server to run it."
   ]
  },
  {
   "cell_type": "code",
   "execution_count": 4,
   "metadata": {},
   "outputs": [
    {
     "data": {
      "text/plain": [
       "flowclient.api_query.APIQuery"
      ]
     },
     "execution_count": 4,
     "metadata": {},
     "output_type": "execute_result"
    }
   ],
   "source": [
    "type(query)"
   ]
  },
  {
   "cell_type": "markdown",
   "metadata": {},
   "source": [
    "## Get the query result\n",
    "Now that we have defined our 'unique subscriber counts' query, we can ask the FlowKit server to give us the result of the query."
   ]
  },
  {
   "cell_type": "code",
   "execution_count": 9,
   "metadata": {},
   "outputs": [],
   "source": [
    "result = query.get_result()"
   ]
  },
  {
   "cell_type": "markdown",
   "metadata": {},
   "source": [
    "- Explain what just happened - i.e. sends query to server to run, and waits until it can get the result, then gets it  \n",
    "- Explain progress bar (with some details about FlowKit splitting query into sub-queries, and why (caching and re-use). For this simple query, probably only one component, but will see more complex ones later)\n",
    "\n",
    "`result` is the result of our query, as a pandas dataframe:"
   ]
  },
  {
   "cell_type": "code",
   "execution_count": 10,
   "metadata": {},
   "outputs": [
    {
     "data": {
      "text/html": [
       "<div>\n",
       "<style scoped>\n",
       "    .dataframe tbody tr th:only-of-type {\n",
       "        vertical-align: middle;\n",
       "    }\n",
       "\n",
       "    .dataframe tbody tr th {\n",
       "        vertical-align: top;\n",
       "    }\n",
       "\n",
       "    .dataframe thead th {\n",
       "        text-align: right;\n",
       "    }\n",
       "</style>\n",
       "<table border=\"1\" class=\"dataframe\">\n",
       "  <thead>\n",
       "    <tr style=\"text-align: right;\">\n",
       "      <th></th>\n",
       "      <th>pcod</th>\n",
       "      <th>value</th>\n",
       "    </tr>\n",
       "  </thead>\n",
       "  <tbody>\n",
       "    <tr>\n",
       "      <th>0</th>\n",
       "      <td>GHA.10.10_1</td>\n",
       "      <td>64922</td>\n",
       "    </tr>\n",
       "    <tr>\n",
       "      <th>1</th>\n",
       "      <td>GHA.10.1_1</td>\n",
       "      <td>13965</td>\n",
       "    </tr>\n",
       "    <tr>\n",
       "      <th>2</th>\n",
       "      <td>GHA.10.11_1</td>\n",
       "      <td>9010</td>\n",
       "    </tr>\n",
       "    <tr>\n",
       "      <th>3</th>\n",
       "      <td>GHA.10.12_1</td>\n",
       "      <td>14396</td>\n",
       "    </tr>\n",
       "    <tr>\n",
       "      <th>4</th>\n",
       "      <td>GHA.10.13_1</td>\n",
       "      <td>22824</td>\n",
       "    </tr>\n",
       "    <tr>\n",
       "      <th>...</th>\n",
       "      <td>...</td>\n",
       "      <td>...</td>\n",
       "    </tr>\n",
       "    <tr>\n",
       "      <th>132</th>\n",
       "      <td>GHA.9.5_1</td>\n",
       "      <td>12638</td>\n",
       "    </tr>\n",
       "    <tr>\n",
       "      <th>133</th>\n",
       "      <td>GHA.9.6_1</td>\n",
       "      <td>5254</td>\n",
       "    </tr>\n",
       "    <tr>\n",
       "      <th>134</th>\n",
       "      <td>GHA.9.7_1</td>\n",
       "      <td>13289</td>\n",
       "    </tr>\n",
       "    <tr>\n",
       "      <th>135</th>\n",
       "      <td>GHA.9.8_1</td>\n",
       "      <td>20700</td>\n",
       "    </tr>\n",
       "    <tr>\n",
       "      <th>136</th>\n",
       "      <td>GHA.9.9_1</td>\n",
       "      <td>9769</td>\n",
       "    </tr>\n",
       "  </tbody>\n",
       "</table>\n",
       "<p>137 rows × 2 columns</p>\n",
       "</div>"
      ],
      "text/plain": [
       "            pcod  value\n",
       "0    GHA.10.10_1  64922\n",
       "1     GHA.10.1_1  13965\n",
       "2    GHA.10.11_1   9010\n",
       "3    GHA.10.12_1  14396\n",
       "4    GHA.10.13_1  22824\n",
       "..           ...    ...\n",
       "132    GHA.9.5_1  12638\n",
       "133    GHA.9.6_1   5254\n",
       "134    GHA.9.7_1  13289\n",
       "135    GHA.9.8_1  20700\n",
       "136    GHA.9.9_1   9769\n",
       "\n",
       "[137 rows x 2 columns]"
      ]
     },
     "execution_count": 10,
     "metadata": {},
     "output_type": "execute_result"
    }
   ],
   "source": [
    "result"
   ]
  },
  {
   "cell_type": "markdown",
   "metadata": {},
   "source": [
    "## Long-running queries\n",
    "Some queries can take a long time to run. If we use `get_result` straight away, will have to wait until the query finishes running before we can do anything else.\n",
    "\n",
    "Instead, we can use the `run` method to start running a query without waiting for the result, and the `status` property to check whether it's ready.\n",
    "\n",
    "Start by defining two new queries: a 'location event counts' (explain) and a 'total network objects' (explain)."
   ]
  },
  {
   "cell_type": "code",
   "execution_count": null,
   "metadata": {},
   "outputs": [],
   "source": [
    "events_query = fc.location_event_counts(\n",
    "    connection=conn,\n",
    "    start_date=\"2016-01-01\",\n",
    "    end_date=\"2016-01-02\",\n",
    "    aggregation_unit=\"admin2\",\n",
    "    count_interval=\"day\",\n",
    ")\n",
    "\n",
    "network_objects_query = fc.total_network_objects(\n",
    "    connection=conn,\n",
    "    start_date=\"2016-01-01\",\n",
    "    end_date=\"2016-01-02\",\n",
    "    aggregation_unit=\"admin2\",\n",
    "    total_by=\"day\",\n",
    ")"
   ]
  },
  {
   "cell_type": "markdown",
   "metadata": {},
   "source": [
    "Query objects have a `status` property, which will tell us the status of the query(e.g. 'executing' or 'finished'). The status of the two new queries is 'not running', because we haven't asked FlowKit to run them yet:"
   ]
  },
  {
   "cell_type": "code",
   "execution_count": null,
   "metadata": {},
   "outputs": [],
   "source": [
    "events_query.status"
   ]
  },
  {
   "cell_type": "code",
   "execution_count": null,
   "metadata": {},
   "outputs": [],
   "source": [
    "network_objects_query.status"
   ]
  },
  {
   "cell_type": "markdown",
   "metadata": {},
   "source": [
    "If we now called `events_query.get_result()`, we would have to wait until `events_query` finished before we could start running `network_objects_query`. Instead, we can use the `run` method to set both queries running without waiting for the results:"
   ]
  },
  {
   "cell_type": "code",
   "execution_count": null,
   "metadata": {},
   "outputs": [],
   "source": [
    "events_query.run()\n",
    "network_objects_query.run()"
   ]
  },
  {
   "cell_type": "markdown",
   "metadata": {},
   "source": [
    "If we check the status again, we should find that both queries are now either 'queued', 'executing' or 'completed':  \n",
    "(Note to self: ideally the queries should take long enough that there's time to check the status and see that they're running but not finished, but not so long that it delays the tutorial. Of course, if the queries are already cached - which they will be if anyone else has already worked through the tutorial - then they will already be 'completed')"
   ]
  },
  {
   "cell_type": "code",
   "execution_count": null,
   "metadata": {},
   "outputs": [],
   "source": [
    "events_query.status"
   ]
  },
  {
   "cell_type": "code",
   "execution_count": null,
   "metadata": {},
   "outputs": [],
   "source": [
    "network_objects_query.status"
   ]
  },
  {
   "cell_type": "markdown",
   "metadata": {},
   "source": [
    "At any time, can use `get_result` to wait and get result, as we did previously. If it's already finished, will return result immediately:"
   ]
  },
  {
   "cell_type": "code",
   "execution_count": null,
   "metadata": {},
   "outputs": [],
   "source": [
    "events_result = events_query.get_result()\n",
    "network_objects_result = network_objects_query.get_result()"
   ]
  },
  {
   "cell_type": "code",
   "execution_count": null,
   "metadata": {},
   "outputs": [],
   "source": [
    "events_result"
   ]
  },
  {
   "cell_type": "code",
   "execution_count": null,
   "metadata": {},
   "outputs": [],
   "source": [
    "network_objects_result"
   ]
  },
  {
   "cell_type": "markdown",
   "metadata": {},
   "source": [
    "## \"closing remarks\"\n",
    "\n",
    "- What have we learned?  \n",
    "- Now ready to take a more in-depth look at what's possible with FlowKit.  \n",
    "- In the next tutorial ([Geography](03-geography.ipynb)), will learn how to aggregate to different spatial units, and how to get the associated geometry of those spatial aggregation units."
   ]
  },
  {
   "cell_type": "code",
   "execution_count": null,
   "metadata": {},
   "outputs": [],
   "source": []
  }
 ],
 "metadata": {
  "kernelspec": {
   "display_name": "Python 3",
   "language": "python",
   "name": "python3"
  },
  "language_info": {
   "codemirror_mode": {
    "name": "ipython",
    "version": 3
   },
   "file_extension": ".py",
   "mimetype": "text/x-python",
   "name": "python",
   "nbconvert_exporter": "python",
   "pygments_lexer": "ipython3",
   "version": "3.8.0"
  }
 },
 "nbformat": 4,
 "nbformat_minor": 4
}
